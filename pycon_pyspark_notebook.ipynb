{
 "cells": [
  {
   "cell_type": "markdown",
   "metadata": {},
   "source": [
    "# Distributed ML using PySpark\n"
   ]
  },
  {
   "cell_type": "markdown",
   "metadata": {},
   "source": [
    "## Setup\n"
   ]
  },
  {
   "cell_type": "code",
   "execution_count": 74,
   "metadata": {},
   "outputs": [
    {
     "name": "stdout",
     "output_type": "stream",
     "text": [
      "Requirement already satisfied: numpy in ./venv/lib/python3.6/site-packages (1.17.2)\n",
      "Requirement already satisfied: seaborn in ./venv/lib/python3.6/site-packages (0.9.0)\n",
      "Requirement already satisfied: pandas in ./venv/lib/python3.6/site-packages (0.25.1)\n",
      "Requirement already satisfied: matplotlib in ./venv/lib/python3.6/site-packages (3.1.1)\n",
      "Requirement already satisfied: pyspark in ./venv/lib/python3.6/site-packages (2.4.4)\n",
      "Requirement already satisfied: scipy>=0.14.0 in ./venv/lib/python3.6/site-packages (from seaborn) (1.3.1)\n",
      "Requirement already satisfied: python-dateutil>=2.6.1 in ./venv/lib/python3.6/site-packages (from pandas) (2.8.0)\n",
      "Requirement already satisfied: pytz>=2017.2 in ./venv/lib/python3.6/site-packages (from pandas) (2019.2)\n",
      "Requirement already satisfied: kiwisolver>=1.0.1 in ./venv/lib/python3.6/site-packages (from matplotlib) (1.1.0)\n",
      "Requirement already satisfied: cycler>=0.10 in ./venv/lib/python3.6/site-packages (from matplotlib) (0.10.0)\n",
      "Requirement already satisfied: pyparsing!=2.0.4,!=2.1.2,!=2.1.6,>=2.0.1 in ./venv/lib/python3.6/site-packages (from matplotlib) (2.4.2)\n",
      "Requirement already satisfied: py4j==0.10.7 in ./venv/lib/python3.6/site-packages (from pyspark) (0.10.7)\n",
      "Requirement already satisfied: six>=1.5 in ./venv/lib/python3.6/site-packages (from python-dateutil>=2.6.1->pandas) (1.12.0)\n",
      "Requirement already satisfied: setuptools in ./venv/lib/python3.6/site-packages (from kiwisolver>=1.0.1->matplotlib) (41.2.0)\n"
     ]
    }
   ],
   "source": [
    "# Install the packages below\n",
    "!pip install numpy seaborn pandas matplotlib pyspark"
   ]
  },
  {
   "cell_type": "code",
   "execution_count": null,
   "metadata": {},
   "outputs": [],
   "source": [
    "# Make a data folder & download the data folder we'll be using for the project.\n",
    "# NOTE: If you don't have wget, you can simply create data folder using file explore and place data from the following sources there\n",
    "!mkdir data\n",
    "# !wget -q -O data/reds.csv http://archive.ics.uci.edu/ml/machine-learning-databases/wine-quality/winequality-red.csv\n",
    "!wget -q -O data/whites.csv http://archive.ics.uci.edu/ml/machine-learning-databases/wine-quality/winequality-white.csv"
   ]
  },
  {
   "cell_type": "code",
   "execution_count": 75,
   "metadata": {},
   "outputs": [],
   "source": [
    "# imports to see if everything's fine\n",
    "import re\n",
    "import time\n",
    "import numpy as np\n",
    "import pandas as pd\n",
    "import seaborn as sns\n",
    "import matplotlib.pyplot as plt\n",
    "import sys\n",
    "\n",
    "from pyspark.sql import SparkSession"
   ]
  },
  {
   "cell_type": "markdown",
   "metadata": {},
   "source": [
    "## PySpark Hello world!\n",
    "\n",
    "### Starting a spark session"
   ]
  },
  {
   "cell_type": "code",
   "execution_count": null,
   "metadata": {},
   "outputs": [],
   "source": [
    "# Execute this only if the below cell is throwing java environment error\n",
    "# import os\n",
    "# os.environ['JAVA_HOME'] = \"/Library/Java/JavaVirtualMachines/adoptopenjdk-8.jdk/Contents/Home/\""
   ]
  },
  {
   "cell_type": "code",
   "execution_count": 76,
   "metadata": {},
   "outputs": [],
   "source": [
    "app_name = \"hello_world\"\n",
    "# Running in the local model/\n",
    "\n",
    "master = \"local[*]\"\n",
    "\n",
    "# boilerplate to start spark session\n",
    "spark = SparkSession\\\n",
    "        .builder\\\n",
    "        .appName(app_name)\\\n",
    "        .master(master)\\\n",
    "        .getOrCreate()\n",
    "\n",
    "sc = spark.sparkContext"
   ]
  },
  {
   "cell_type": "code",
   "execution_count": 77,
   "metadata": {},
   "outputs": [
    {
     "name": "stdout",
     "output_type": "stream",
     "text": [
      "Help on SparkContext in module pyspark.context object:\n",
      "\n",
      "class SparkContext(builtins.object)\n",
      " |  Main entry point for Spark functionality. A SparkContext represents the\n",
      " |  connection to a Spark cluster, and can be used to create L{RDD} and\n",
      " |  broadcast variables on that cluster.\n",
      " |  \n",
      " |  .. note:: :class:`SparkContext` instance is not supported to share across multiple\n",
      " |      processes out of the box, and PySpark does not guarantee multi-processing execution.\n",
      " |      Use threads instead for concurrent processing purpose.\n",
      " |  \n",
      " |  Methods defined here:\n",
      " |  \n",
      " |  __enter__(self)\n",
      " |      Enable 'with SparkContext(...) as sc: app(sc)' syntax.\n",
      " |  \n",
      " |  __exit__(self, type, value, trace)\n",
      " |      Enable 'with SparkContext(...) as sc: app' syntax.\n",
      " |      \n",
      " |      Specifically stop the context on exit of the with block.\n",
      " |  \n",
      " |  __getnewargs__(self)\n",
      " |  \n",
      " |  __init__(self, master=None, appName=None, sparkHome=None, pyFiles=None, environment=None, batchSize=0, serializer=PickleSerializer(), conf=None, gateway=None, jsc=None, profiler_cls=<class 'pyspark.profiler.BasicProfiler'>)\n",
      " |      Create a new SparkContext. At least the master and app name should be set,\n",
      " |      either through the named parameters here or through C{conf}.\n",
      " |      \n",
      " |      :param master: Cluster URL to connect to\n",
      " |             (e.g. mesos://host:port, spark://host:port, local[4]).\n",
      " |      :param appName: A name for your job, to display on the cluster web UI.\n",
      " |      :param sparkHome: Location where Spark is installed on cluster nodes.\n",
      " |      :param pyFiles: Collection of .zip or .py files to send to the cluster\n",
      " |             and add to PYTHONPATH.  These can be paths on the local file\n",
      " |             system or HDFS, HTTP, HTTPS, or FTP URLs.\n",
      " |      :param environment: A dictionary of environment variables to set on\n",
      " |             worker nodes.\n",
      " |      :param batchSize: The number of Python objects represented as a single\n",
      " |             Java object. Set 1 to disable batching, 0 to automatically choose\n",
      " |             the batch size based on object sizes, or -1 to use an unlimited\n",
      " |             batch size\n",
      " |      :param serializer: The serializer for RDDs.\n",
      " |      :param conf: A L{SparkConf} object setting Spark properties.\n",
      " |      :param gateway: Use an existing gateway and JVM, otherwise a new JVM\n",
      " |             will be instantiated.\n",
      " |      :param jsc: The JavaSparkContext instance (optional).\n",
      " |      :param profiler_cls: A class of custom Profiler used to do profiling\n",
      " |             (default is pyspark.profiler.BasicProfiler).\n",
      " |      \n",
      " |      \n",
      " |      >>> from pyspark.context import SparkContext\n",
      " |      >>> sc = SparkContext('local', 'test')\n",
      " |      \n",
      " |      >>> sc2 = SparkContext('local', 'test2') # doctest: +IGNORE_EXCEPTION_DETAIL\n",
      " |      Traceback (most recent call last):\n",
      " |          ...\n",
      " |      ValueError:...\n",
      " |  \n",
      " |  __repr__(self)\n",
      " |      Return repr(self).\n",
      " |  \n",
      " |  accumulator(self, value, accum_param=None)\n",
      " |      Create an L{Accumulator} with the given initial value, using a given\n",
      " |      L{AccumulatorParam} helper object to define how to add values of the\n",
      " |      data type if provided. Default AccumulatorParams are used for integers\n",
      " |      and floating-point numbers if you do not provide one. For other types,\n",
      " |      a custom AccumulatorParam can be used.\n",
      " |  \n",
      " |  addFile(self, path, recursive=False)\n",
      " |      Add a file to be downloaded with this Spark job on every node.\n",
      " |      The C{path} passed can be either a local file, a file in HDFS\n",
      " |      (or other Hadoop-supported filesystems), or an HTTP, HTTPS or\n",
      " |      FTP URI.\n",
      " |      \n",
      " |      To access the file in Spark jobs, use\n",
      " |      L{SparkFiles.get(fileName)<pyspark.files.SparkFiles.get>} with the\n",
      " |      filename to find its download location.\n",
      " |      \n",
      " |      A directory can be given if the recursive option is set to True.\n",
      " |      Currently directories are only supported for Hadoop-supported filesystems.\n",
      " |      \n",
      " |      .. note:: A path can be added only once. Subsequent additions of the same path are ignored.\n",
      " |      \n",
      " |      >>> from pyspark import SparkFiles\n",
      " |      >>> path = os.path.join(tempdir, \"test.txt\")\n",
      " |      >>> with open(path, \"w\") as testFile:\n",
      " |      ...    _ = testFile.write(\"100\")\n",
      " |      >>> sc.addFile(path)\n",
      " |      >>> def func(iterator):\n",
      " |      ...    with open(SparkFiles.get(\"test.txt\")) as testFile:\n",
      " |      ...        fileVal = int(testFile.readline())\n",
      " |      ...        return [x * fileVal for x in iterator]\n",
      " |      >>> sc.parallelize([1, 2, 3, 4]).mapPartitions(func).collect()\n",
      " |      [100, 200, 300, 400]\n",
      " |  \n",
      " |  addPyFile(self, path)\n",
      " |      Add a .py or .zip dependency for all tasks to be executed on this\n",
      " |      SparkContext in the future.  The C{path} passed can be either a local\n",
      " |      file, a file in HDFS (or other Hadoop-supported filesystems), or an\n",
      " |      HTTP, HTTPS or FTP URI.\n",
      " |      \n",
      " |      .. note:: A path can be added only once. Subsequent additions of the same path are ignored.\n",
      " |  \n",
      " |  binaryFiles(self, path, minPartitions=None)\n",
      " |      .. note:: Experimental\n",
      " |      \n",
      " |      Read a directory of binary files from HDFS, a local file system\n",
      " |      (available on all nodes), or any Hadoop-supported file system URI\n",
      " |      as a byte array. Each file is read as a single record and returned\n",
      " |      in a key-value pair, where the key is the path of each file, the\n",
      " |      value is the content of each file.\n",
      " |      \n",
      " |      .. note:: Small files are preferred, large file is also allowable, but\n",
      " |          may cause bad performance.\n",
      " |  \n",
      " |  binaryRecords(self, path, recordLength)\n",
      " |      .. note:: Experimental\n",
      " |      \n",
      " |      Load data from a flat binary file, assuming each record is a set of numbers\n",
      " |      with the specified numerical format (see ByteBuffer), and the number of\n",
      " |      bytes per record is constant.\n",
      " |      \n",
      " |      :param path: Directory to the input data files\n",
      " |      :param recordLength: The length at which to split the records\n",
      " |  \n",
      " |  broadcast(self, value)\n",
      " |      Broadcast a read-only variable to the cluster, returning a\n",
      " |      L{Broadcast<pyspark.broadcast.Broadcast>}\n",
      " |      object for reading it in distributed functions. The variable will\n",
      " |      be sent to each cluster only once.\n",
      " |  \n",
      " |  cancelAllJobs(self)\n",
      " |      Cancel all jobs that have been scheduled or are running.\n",
      " |  \n",
      " |  cancelJobGroup(self, groupId)\n",
      " |      Cancel active jobs for the specified group. See L{SparkContext.setJobGroup}\n",
      " |      for more information.\n",
      " |  \n",
      " |  dump_profiles(self, path)\n",
      " |      Dump the profile stats into directory `path`\n",
      " |  \n",
      " |  emptyRDD(self)\n",
      " |      Create an RDD that has no partitions or elements.\n",
      " |  \n",
      " |  getConf(self)\n",
      " |  \n",
      " |  getLocalProperty(self, key)\n",
      " |      Get a local property set in this thread, or null if it is missing. See\n",
      " |      L{setLocalProperty}\n",
      " |  \n",
      " |  hadoopFile(self, path, inputFormatClass, keyClass, valueClass, keyConverter=None, valueConverter=None, conf=None, batchSize=0)\n",
      " |      Read an 'old' Hadoop InputFormat with arbitrary key and value class from HDFS,\n",
      " |      a local file system (available on all nodes), or any Hadoop-supported file system URI.\n",
      " |      The mechanism is the same as for sc.sequenceFile.\n",
      " |      \n",
      " |      A Hadoop configuration can be passed in as a Python dict. This will be converted into a\n",
      " |      Configuration in Java.\n",
      " |      \n",
      " |      :param path: path to Hadoop file\n",
      " |      :param inputFormatClass: fully qualified classname of Hadoop InputFormat\n",
      " |             (e.g. \"org.apache.hadoop.mapred.TextInputFormat\")\n",
      " |      :param keyClass: fully qualified classname of key Writable class\n",
      " |             (e.g. \"org.apache.hadoop.io.Text\")\n",
      " |      :param valueClass: fully qualified classname of value Writable class\n",
      " |             (e.g. \"org.apache.hadoop.io.LongWritable\")\n",
      " |      :param keyConverter: (None by default)\n",
      " |      :param valueConverter: (None by default)\n",
      " |      :param conf: Hadoop configuration, passed in as a dict\n",
      " |             (None by default)\n",
      " |      :param batchSize: The number of Python objects represented as a single\n",
      " |             Java object. (default 0, choose batchSize automatically)\n",
      " |  \n",
      " |  hadoopRDD(self, inputFormatClass, keyClass, valueClass, keyConverter=None, valueConverter=None, conf=None, batchSize=0)\n",
      " |      Read an 'old' Hadoop InputFormat with arbitrary key and value class, from an arbitrary\n",
      " |      Hadoop configuration, which is passed in as a Python dict.\n",
      " |      This will be converted into a Configuration in Java.\n",
      " |      The mechanism is the same as for sc.sequenceFile.\n",
      " |      \n",
      " |      :param inputFormatClass: fully qualified classname of Hadoop InputFormat\n",
      " |             (e.g. \"org.apache.hadoop.mapred.TextInputFormat\")\n",
      " |      :param keyClass: fully qualified classname of key Writable class\n",
      " |             (e.g. \"org.apache.hadoop.io.Text\")\n",
      " |      :param valueClass: fully qualified classname of value Writable class\n",
      " |             (e.g. \"org.apache.hadoop.io.LongWritable\")\n",
      " |      :param keyConverter: (None by default)\n",
      " |      :param valueConverter: (None by default)\n",
      " |      :param conf: Hadoop configuration, passed in as a dict\n",
      " |             (None by default)\n",
      " |      :param batchSize: The number of Python objects represented as a single\n",
      " |             Java object. (default 0, choose batchSize automatically)\n",
      " |  \n",
      " |  newAPIHadoopFile(self, path, inputFormatClass, keyClass, valueClass, keyConverter=None, valueConverter=None, conf=None, batchSize=0)\n",
      " |      Read a 'new API' Hadoop InputFormat with arbitrary key and value class from HDFS,\n",
      " |      a local file system (available on all nodes), or any Hadoop-supported file system URI.\n",
      " |      The mechanism is the same as for sc.sequenceFile.\n",
      " |      \n",
      " |      A Hadoop configuration can be passed in as a Python dict. This will be converted into a\n",
      " |      Configuration in Java\n",
      " |      \n",
      " |      :param path: path to Hadoop file\n",
      " |      :param inputFormatClass: fully qualified classname of Hadoop InputFormat\n",
      " |             (e.g. \"org.apache.hadoop.mapreduce.lib.input.TextInputFormat\")\n",
      " |      :param keyClass: fully qualified classname of key Writable class\n",
      " |             (e.g. \"org.apache.hadoop.io.Text\")\n",
      " |      :param valueClass: fully qualified classname of value Writable class\n",
      " |             (e.g. \"org.apache.hadoop.io.LongWritable\")\n",
      " |      :param keyConverter: (None by default)\n",
      " |      :param valueConverter: (None by default)\n",
      " |      :param conf: Hadoop configuration, passed in as a dict\n",
      " |             (None by default)\n",
      " |      :param batchSize: The number of Python objects represented as a single\n",
      " |             Java object. (default 0, choose batchSize automatically)\n",
      " |  \n",
      " |  newAPIHadoopRDD(self, inputFormatClass, keyClass, valueClass, keyConverter=None, valueConverter=None, conf=None, batchSize=0)\n",
      " |      Read a 'new API' Hadoop InputFormat with arbitrary key and value class, from an arbitrary\n",
      " |      Hadoop configuration, which is passed in as a Python dict.\n",
      " |      This will be converted into a Configuration in Java.\n",
      " |      The mechanism is the same as for sc.sequenceFile.\n",
      " |      \n",
      " |      :param inputFormatClass: fully qualified classname of Hadoop InputFormat\n",
      " |             (e.g. \"org.apache.hadoop.mapreduce.lib.input.TextInputFormat\")\n",
      " |      :param keyClass: fully qualified classname of key Writable class\n",
      " |             (e.g. \"org.apache.hadoop.io.Text\")\n",
      " |      :param valueClass: fully qualified classname of value Writable class\n",
      " |             (e.g. \"org.apache.hadoop.io.LongWritable\")\n",
      " |      :param keyConverter: (None by default)\n",
      " |      :param valueConverter: (None by default)\n",
      " |      :param conf: Hadoop configuration, passed in as a dict\n",
      " |             (None by default)\n",
      " |      :param batchSize: The number of Python objects represented as a single\n",
      " |             Java object. (default 0, choose batchSize automatically)\n",
      " |  \n",
      " |  parallelize(self, c, numSlices=None)\n",
      " |      Distribute a local Python collection to form an RDD. Using xrange\n",
      " |      is recommended if the input represents a range for performance.\n",
      " |      \n",
      " |      >>> sc.parallelize([0, 2, 3, 4, 6], 5).glom().collect()\n",
      " |      [[0], [2], [3], [4], [6]]\n",
      " |      >>> sc.parallelize(xrange(0, 6, 2), 5).glom().collect()\n",
      " |      [[], [0], [], [2], [4]]\n",
      " |  \n",
      " |  pickleFile(self, name, minPartitions=None)\n",
      " |      Load an RDD previously saved using L{RDD.saveAsPickleFile} method.\n",
      " |      \n",
      " |      >>> tmpFile = NamedTemporaryFile(delete=True)\n",
      " |      >>> tmpFile.close()\n",
      " |      >>> sc.parallelize(range(10)).saveAsPickleFile(tmpFile.name, 5)\n",
      " |      >>> sorted(sc.pickleFile(tmpFile.name, 3).collect())\n",
      " |      [0, 1, 2, 3, 4, 5, 6, 7, 8, 9]\n",
      " |  \n",
      " |  range(self, start, end=None, step=1, numSlices=None)\n",
      " |      Create a new RDD of int containing elements from `start` to `end`\n",
      " |      (exclusive), increased by `step` every element. Can be called the same\n",
      " |      way as python's built-in range() function. If called with a single argument,\n",
      " |      the argument is interpreted as `end`, and `start` is set to 0.\n",
      " |      \n",
      " |      :param start: the start value\n",
      " |      :param end: the end value (exclusive)\n",
      " |      :param step: the incremental step (default: 1)\n",
      " |      :param numSlices: the number of partitions of the new RDD\n",
      " |      :return: An RDD of int\n",
      " |      \n",
      " |      >>> sc.range(5).collect()\n",
      " |      [0, 1, 2, 3, 4]\n",
      " |      >>> sc.range(2, 4).collect()\n",
      " |      [2, 3]\n",
      " |      >>> sc.range(1, 7, 2).collect()\n",
      " |      [1, 3, 5]\n",
      " |  \n",
      " |  runJob(self, rdd, partitionFunc, partitions=None, allowLocal=False)\n",
      " |      Executes the given partitionFunc on the specified set of partitions,\n",
      " |      returning the result as an array of elements.\n",
      " |      \n",
      " |      If 'partitions' is not specified, this will run over all partitions.\n",
      " |      \n",
      " |      >>> myRDD = sc.parallelize(range(6), 3)\n",
      " |      >>> sc.runJob(myRDD, lambda part: [x * x for x in part])\n",
      " |      [0, 1, 4, 9, 16, 25]\n",
      " |      \n",
      " |      >>> myRDD = sc.parallelize(range(6), 3)\n",
      " |      >>> sc.runJob(myRDD, lambda part: [x * x for x in part], [0, 2], True)\n",
      " |      [0, 1, 16, 25]\n",
      " |  \n",
      " |  sequenceFile(self, path, keyClass=None, valueClass=None, keyConverter=None, valueConverter=None, minSplits=None, batchSize=0)\n",
      " |      Read a Hadoop SequenceFile with arbitrary key and value Writable class from HDFS,\n",
      " |      a local file system (available on all nodes), or any Hadoop-supported file system URI.\n",
      " |      The mechanism is as follows:\n",
      " |      \n",
      " |          1. A Java RDD is created from the SequenceFile or other InputFormat, and the key\n",
      " |             and value Writable classes\n",
      " |          2. Serialization is attempted via Pyrolite pickling\n",
      " |          3. If this fails, the fallback is to call 'toString' on each key and value\n",
      " |          4. C{PickleSerializer} is used to deserialize pickled objects on the Python side\n",
      " |      \n",
      " |      :param path: path to sequncefile\n",
      " |      :param keyClass: fully qualified classname of key Writable class\n",
      " |             (e.g. \"org.apache.hadoop.io.Text\")\n",
      " |      :param valueClass: fully qualified classname of value Writable class\n",
      " |             (e.g. \"org.apache.hadoop.io.LongWritable\")\n",
      " |      :param keyConverter:\n",
      " |      :param valueConverter:\n",
      " |      :param minSplits: minimum splits in dataset\n",
      " |             (default min(2, sc.defaultParallelism))\n",
      " |      :param batchSize: The number of Python objects represented as a single\n",
      " |             Java object. (default 0, choose batchSize automatically)\n",
      " |  \n",
      " |  setCheckpointDir(self, dirName)\n",
      " |      Set the directory under which RDDs are going to be checkpointed. The\n",
      " |      directory must be a HDFS path if running on a cluster.\n",
      " |  \n",
      " |  setJobDescription(self, value)\n",
      " |      Set a human readable description of the current job.\n",
      " |  \n",
      " |  setJobGroup(self, groupId, description, interruptOnCancel=False)\n",
      " |      Assigns a group ID to all the jobs started by this thread until the group ID is set to a\n",
      " |      different value or cleared.\n",
      " |      \n",
      " |      Often, a unit of execution in an application consists of multiple Spark actions or jobs.\n",
      " |      Application programmers can use this method to group all those jobs together and give a\n",
      " |      group description. Once set, the Spark web UI will associate such jobs with this group.\n",
      " |      \n",
      " |      The application can use L{SparkContext.cancelJobGroup} to cancel all\n",
      " |      running jobs in this group.\n",
      " |      \n",
      " |      >>> import threading\n",
      " |      >>> from time import sleep\n",
      " |      >>> result = \"Not Set\"\n",
      " |      >>> lock = threading.Lock()\n",
      " |      >>> def map_func(x):\n",
      " |      ...     sleep(100)\n",
      " |      ...     raise Exception(\"Task should have been cancelled\")\n",
      " |      >>> def start_job(x):\n",
      " |      ...     global result\n",
      " |      ...     try:\n",
      " |      ...         sc.setJobGroup(\"job_to_cancel\", \"some description\")\n",
      " |      ...         result = sc.parallelize(range(x)).map(map_func).collect()\n",
      " |      ...     except Exception as e:\n",
      " |      ...         result = \"Cancelled\"\n",
      " |      ...     lock.release()\n",
      " |      >>> def stop_job():\n",
      " |      ...     sleep(5)\n",
      " |      ...     sc.cancelJobGroup(\"job_to_cancel\")\n",
      " |      >>> suppress = lock.acquire()\n",
      " |      >>> suppress = threading.Thread(target=start_job, args=(10,)).start()\n",
      " |      >>> suppress = threading.Thread(target=stop_job).start()\n",
      " |      >>> suppress = lock.acquire()\n",
      " |      >>> print(result)\n",
      " |      Cancelled\n",
      " |      \n",
      " |      If interruptOnCancel is set to true for the job group, then job cancellation will result\n",
      " |      in Thread.interrupt() being called on the job's executor threads. This is useful to help\n",
      " |      ensure that the tasks are actually stopped in a timely manner, but is off by default due\n",
      " |      to HDFS-1208, where HDFS may respond to Thread.interrupt() by marking nodes as dead.\n",
      " |  \n",
      " |  setLocalProperty(self, key, value)\n",
      " |      Set a local property that affects jobs submitted from this thread, such as the\n",
      " |      Spark fair scheduler pool.\n",
      " |  \n",
      " |  setLogLevel(self, logLevel)\n",
      " |      Control our logLevel. This overrides any user-defined log settings.\n",
      " |      Valid log levels include: ALL, DEBUG, ERROR, FATAL, INFO, OFF, TRACE, WARN\n",
      " |  \n",
      " |  show_profiles(self)\n",
      " |      Print the profile stats to stdout\n",
      " |  \n",
      " |  sparkUser(self)\n",
      " |      Get SPARK_USER for user who is running SparkContext.\n",
      " |  \n",
      " |  statusTracker(self)\n",
      " |      Return :class:`StatusTracker` object\n",
      " |  \n",
      " |  stop(self)\n",
      " |      Shut down the SparkContext.\n",
      " |  \n",
      " |  textFile(self, name, minPartitions=None, use_unicode=True)\n",
      " |      Read a text file from HDFS, a local file system (available on all\n",
      " |      nodes), or any Hadoop-supported file system URI, and return it as an\n",
      " |      RDD of Strings.\n",
      " |      \n",
      " |      If use_unicode is False, the strings will be kept as `str` (encoding\n",
      " |      as `utf-8`), which is faster and smaller than unicode. (Added in\n",
      " |      Spark 1.2)\n",
      " |      \n",
      " |      >>> path = os.path.join(tempdir, \"sample-text.txt\")\n",
      " |      >>> with open(path, \"w\") as testFile:\n",
      " |      ...    _ = testFile.write(\"Hello world!\")\n",
      " |      >>> textFile = sc.textFile(path)\n",
      " |      >>> textFile.collect()\n",
      " |      ['Hello world!']\n",
      " |  \n",
      " |  union(self, rdds)\n",
      " |      Build the union of a list of RDDs.\n",
      " |      \n",
      " |      This supports unions() of RDDs with different serialized formats,\n",
      " |      although this forces them to be reserialized using the default\n",
      " |      serializer:\n",
      " |      \n",
      " |      >>> path = os.path.join(tempdir, \"union-text.txt\")\n",
      " |      >>> with open(path, \"w\") as testFile:\n",
      " |      ...    _ = testFile.write(\"Hello\")\n",
      " |      >>> textFile = sc.textFile(path)\n",
      " |      >>> textFile.collect()\n",
      " |      ['Hello']\n",
      " |      >>> parallelized = sc.parallelize([\"World!\"])\n",
      " |      >>> sorted(sc.union([textFile, parallelized]).collect())\n",
      " |      ['Hello', 'World!']\n",
      " |  \n",
      " |  wholeTextFiles(self, path, minPartitions=None, use_unicode=True)\n",
      " |      Read a directory of text files from HDFS, a local file system\n",
      " |      (available on all nodes), or any  Hadoop-supported file system\n",
      " |      URI. Each file is read as a single record and returned in a\n",
      " |      key-value pair, where the key is the path of each file, the\n",
      " |      value is the content of each file.\n",
      " |      \n",
      " |      If use_unicode is False, the strings will be kept as `str` (encoding\n",
      " |      as `utf-8`), which is faster and smaller than unicode. (Added in\n",
      " |      Spark 1.2)\n",
      " |      \n",
      " |      For example, if you have the following files::\n",
      " |      \n",
      " |        hdfs://a-hdfs-path/part-00000\n",
      " |        hdfs://a-hdfs-path/part-00001\n",
      " |        ...\n",
      " |        hdfs://a-hdfs-path/part-nnnnn\n",
      " |      \n",
      " |      Do C{rdd = sparkContext.wholeTextFiles(\"hdfs://a-hdfs-path\")},\n",
      " |      then C{rdd} contains::\n",
      " |      \n",
      " |        (a-hdfs-path/part-00000, its content)\n",
      " |        (a-hdfs-path/part-00001, its content)\n",
      " |        ...\n",
      " |        (a-hdfs-path/part-nnnnn, its content)\n",
      " |      \n",
      " |      .. note:: Small files are preferred, as each file will be loaded\n",
      " |          fully in memory.\n",
      " |      \n",
      " |      >>> dirPath = os.path.join(tempdir, \"files\")\n",
      " |      >>> os.mkdir(dirPath)\n",
      " |      >>> with open(os.path.join(dirPath, \"1.txt\"), \"w\") as file1:\n",
      " |      ...    _ = file1.write(\"1\")\n",
      " |      >>> with open(os.path.join(dirPath, \"2.txt\"), \"w\") as file2:\n",
      " |      ...    _ = file2.write(\"2\")\n",
      " |      >>> textFiles = sc.wholeTextFiles(dirPath)\n",
      " |      >>> sorted(textFiles.collect())\n",
      " |      [('.../1.txt', '1'), ('.../2.txt', '2')]\n",
      " |  \n",
      " |  ----------------------------------------------------------------------\n",
      " |  Class methods defined here:\n",
      " |  \n",
      " |  getOrCreate(conf=None) from builtins.type\n",
      " |      Get or instantiate a SparkContext and register it as a singleton object.\n",
      " |      \n",
      " |      :param conf: SparkConf (optional)\n",
      " |  \n",
      " |  setSystemProperty(key, value) from builtins.type\n",
      " |      Set a Java system property, such as spark.executor.memory. This must\n",
      " |      must be invoked before instantiating SparkContext.\n",
      " |  \n",
      " |  ----------------------------------------------------------------------\n",
      " |  Data descriptors defined here:\n",
      " |  \n",
      " |  __dict__\n",
      " |      dictionary for instance variables (if defined)\n",
      " |  \n",
      " |  __weakref__\n",
      " |      list of weak references to the object (if defined)\n",
      " |  \n",
      " |  applicationId\n",
      " |      A unique identifier for the Spark application.\n",
      " |      Its format depends on the scheduler implementation.\n",
      " |      \n",
      " |      * in case of local spark app something like 'local-1433865536131'\n",
      " |      * in case of YARN something like 'application_1433865536131_34483'\n",
      " |      \n",
      " |      >>> sc.applicationId  # doctest: +ELLIPSIS\n",
      " |      'local-...'\n",
      " |  \n",
      " |  defaultMinPartitions\n",
      " |      Default min number of partitions for Hadoop RDDs when not given by user\n",
      " |  \n",
      " |  defaultParallelism\n",
      " |      Default level of parallelism to use when not given by user (e.g. for\n",
      " |      reduce tasks)\n",
      " |  \n",
      " |  startTime\n",
      " |      Return the epoch time when the Spark Context was started.\n",
      " |  \n",
      " |  uiWebUrl\n",
      " |      Return the URL of the SparkUI instance started by this SparkContext\n",
      " |  \n",
      " |  version\n",
      " |      The version of Spark on which this application is running.\n",
      " |  \n",
      " |  ----------------------------------------------------------------------\n",
      " |  Data and other attributes defined here:\n",
      " |  \n",
      " |  PACKAGE_EXTENSIONS = ('.zip', '.egg', '.jar')\n",
      "\n"
     ]
    }
   ],
   "source": [
    "# sc.stop()\n",
    "help(sc)"
   ]
  },
  {
   "cell_type": "markdown",
   "metadata": {},
   "source": [
    "You can take advantage of Spark UI to visualize stuff at: http://localhost:4040/jobs/"
   ]
  },
  {
   "cell_type": "markdown",
   "metadata": {},
   "source": [
    "### Word count example"
   ]
  },
  {
   "cell_type": "code",
   "execution_count": 78,
   "metadata": {},
   "outputs": [
    {
     "data": {
      "text/plain": [
       "ParallelCollectionRDD[7761] at parallelize at PythonRDD.scala:195"
      ]
     },
     "execution_count": 78,
     "metadata": {},
     "output_type": "execute_result"
    }
   ],
   "source": [
    "# Data source\n",
    "\n",
    "corpus = [\n",
    "    \"Peter Piper picked a peck of pickled peppers\",\n",
    "    \"a peck of pickled peppers Peter Piper picked\",\n",
    "    \"if Peter Piper picked a peck of pickled peppers\",\n",
    "    \"where’s the peck of pickled peppers that Peter Piper picked\",\n",
    "    \"peck picker\"\n",
    "]\n",
    "\n",
    "rdd = sc.parallelize(corpus)\n",
    "rdd"
   ]
  },
  {
   "cell_type": "code",
   "execution_count": 79,
   "metadata": {},
   "outputs": [
    {
     "data": {
      "text/plain": [
       "['where’s the peck of pickled peppers that Peter Piper picked',\n",
       " 'peck picker',\n",
       " 'if Peter Piper picked a peck of pickled peppers']"
      ]
     },
     "execution_count": 79,
     "metadata": {},
     "output_type": "execute_result"
    }
   ],
   "source": [
    "# Performing the top operation\n",
    "rdd.top(3)"
   ]
  },
  {
   "cell_type": "code",
   "execution_count": 80,
   "metadata": {},
   "outputs": [
    {
     "data": {
      "text/plain": [
       "[('where’s', 1), ('the', 1), ('that', 1)]"
      ]
     },
     "execution_count": 80,
     "metadata": {},
     "output_type": "execute_result"
    }
   ],
   "source": [
    "def emit_word_counts(line):\n",
    "    # Split the line into words\n",
    "    for word in line.split():\n",
    "        # Return a tuple of word, count\n",
    "        yield (word, 1)\n",
    "\n",
    "# Applying the flatMap operation\n",
    "word_count_emission_rdd = rdd.flatMap(emit_word_counts)\n",
    "\n",
    "word_count_emission_rdd.top(3)"
   ]
  },
  {
   "cell_type": "code",
   "execution_count": 81,
   "metadata": {},
   "outputs": [
    {
     "data": {
      "text/plain": [
       "[('of', 4), ('a', 3), ('where’s', 1)]"
      ]
     },
     "execution_count": 81,
     "metadata": {},
     "output_type": "execute_result"
    }
   ],
   "source": [
    "# def aggregate_sum(value_so_far, current):\n",
    "#     return value_so_far + current\n",
    "\n",
    "word_counts_rdd = word_count_emission_rdd.reduceByKey(lambda value_so_far, current: value_so_far + current)\n",
    "word_counts_rdd.take(3)"
   ]
  },
  {
   "cell_type": "markdown",
   "metadata": {},
   "source": [
    "#### 3 different ways of getting the most occurring word"
   ]
  },
  {
   "cell_type": "code",
   "execution_count": 82,
   "metadata": {},
   "outputs": [
    {
     "data": {
      "text/plain": [
       "('peck', 5)"
      ]
     },
     "execution_count": 82,
     "metadata": {},
     "output_type": "execute_result"
    }
   ],
   "source": [
    "# Getting the most ocurred word in single line\n",
    "# Using the sortBy operation on RDD\n",
    "rdd.flatMap(emit_word_counts).reduceByKey(lambda x, y: x + y).sortBy(lambda x: -x[1]).collect()[0]"
   ]
  },
  {
   "cell_type": "code",
   "execution_count": 84,
   "metadata": {},
   "outputs": [
    {
     "data": {
      "text/plain": [
       "[('peck', 5)]"
      ]
     },
     "execution_count": 84,
     "metadata": {},
     "output_type": "execute_result"
    }
   ],
   "source": [
    "# Using the takeOrdered operation (implicity calls sortBy)\n",
    "rdd.flatMap(emit_word_counts).reduceByKey(lambda x, y: x + y).takeOrdered(1, key=lambda x: -x[1])"
   ]
  },
  {
   "cell_type": "code",
   "execution_count": 85,
   "metadata": {},
   "outputs": [
    {
     "data": {
      "text/plain": [
       "('peck', 5)"
      ]
     },
     "execution_count": 85,
     "metadata": {},
     "output_type": "execute_result"
    }
   ],
   "source": [
    "# Using the countByKey operation (implicitly calls reduce) followed by Python's sorted method.\n",
    "sorted(rdd.flatMap(emit_word_counts).countByKey().items(), key = lambda x: x[1], reverse=True)[0]"
   ]
  },
  {
   "cell_type": "markdown",
   "metadata": {},
   "source": [
    "http://localhost:4040/jobs/ \n",
    "\n",
    "#### What was happening under the hood?\n",
    "\n",
    "After `flatMap` is run, Spark collects the outputs (tuples) emitted by map, and performs optimized shuffling to distribute these emitted key-value pairs to the workers. \n",
    "\n",
    "Since `reduceByKey` aggregates the pairs based on the key, distribution happens in a such a way that all pairs corresponding to a particular key end up at the same worker. This means there's a \"wide\" dependency in the sense that Spark has to\n",
    "\n",
    "- Wait for all the executors performing map function to finish and yield their outputs.\n",
    "- Shuffle the map output.\n",
    "- Send these outputs to the workers based on the key.\n",
    "\n",
    "---\n",
    "\n",
    "Thus the above job (lines → words → per-word count → global word count → output) is performed in two stages in Spark,\n",
    "\n",
    "    Stage 1: lines → words → per-word count\n",
    "    Stage 2: global word count → output\n"
   ]
  },
  {
   "cell_type": "markdown",
   "metadata": {},
   "source": [
    "# Linear regression in PySpark"
   ]
  },
  {
   "cell_type": "markdown",
   "metadata": {},
   "source": [
    "## 1. Gathering the data\n",
    "\n",
    "For the main task we will use data about red and white Portuguese wines. [This data](http://archive.ics.uci.edu/ml/datasets/Wine+Quality) was made available to the UC Irvine public repository of Machine Learning datasets by researchers at the University of Minho in association with [this paper](https://www.sciencedirect.com/science/article/pii/S0167923609001377?via%3Dihub):\n",
    "> P. Cortez, A. Cerdeira, F. Almeida, T. Matos and J. Reis. \n",
    "Modeling wine preferences by data mining from physicochemical properties. In Decision Support Systems, Elsevier, 47(4):547-553, 2009.\n",
    "\n",
    "The dataset includes 12 fields:\n",
    ">`fixed acidity`  \n",
    "`volatile acidity`  \n",
    "`citric acid`  \n",
    "`residual sugar`  \n",
    "`chlorides`  \n",
    "`free sulfur dioxide`  \n",
    "`total sulfur dioxide`  \n",
    "`density`  \n",
    "`pH`  \n",
    "`sulphates`  \n",
    "`alcohol`  \n",
    "`quality`   -- (_a score between 0 and 10_)\n",
    "\n",
    "__`IMPORTANT NOTE:`__ The outcome variable in our data is a human assigned score ranging from 0 to 10. Since the scores are integers this is actually an ordinal and not numerical outcome varaible. However for the purposes of this assignment we'll treat it as a numerical quantity.\n",
    "\n",
    "The data are in two files: one containing red wines and another containing white wines."
   ]
  },
  {
   "cell_type": "code",
   "execution_count": null,
   "metadata": {},
   "outputs": [],
   "source": [
    "# make a data folder & download red & white wine files\n",
    "!mkdir data\n",
    "!wget -q -O data/reds.csv http://archive.ics.uci.edu/ml/machine-learning-databases/wine-quality/winequality-red.csv\n",
    "!wget -q -O data/whites.csv http://archive.ics.uci.edu/ml/machine-learning-databases/wine-quality/winequality-white.csv"
   ]
  },
  {
   "cell_type": "code",
   "execution_count": 86,
   "metadata": {},
   "outputs": [
    {
     "name": "stdout",
     "output_type": "stream",
     "text": [
      "\"fixed acidity\";\"volatile acidity\";\"citric acid\";\"residual sugar\";\"chlorides\";\"free sulfur dioxide\";\"total sulfur dioxide\";\"density\";\"pH\";\"sulphates\";\"alcohol\";\"quality\"\r\n",
      "7;0.27;0.36;20.7;0.045;45;170;1.001;3;0.45;8.8;6\r\n",
      "6.3;0.3;0.34;1.6;0.049;14;132;0.994;3.3;0.49;9.5;6\r\n",
      "8.1;0.28;0.4;6.9;0.05;30;97;0.9951;3.26;0.44;10.1;6\r\n",
      "7.2;0.23;0.32;8.5;0.058;47;186;0.9956;3.19;0.4;9.9;6\r\n",
      "7.2;0.23;0.32;8.5;0.058;47;186;0.9956;3.19;0.4;9.9;6\r\n",
      "8.1;0.28;0.4;6.9;0.05;30;97;0.9951;3.26;0.44;10.1;6\r\n",
      "6.2;0.32;0.16;7;0.045;30;136;0.9949;3.18;0.47;9.6;6\r\n",
      "7;0.27;0.36;20.7;0.045;45;170;1.001;3;0.45;8.8;6\r\n",
      "6.3;0.3;0.34;1.6;0.049;14;132;0.994;3.3;0.49;9.5;6\r\n"
     ]
    }
   ],
   "source": [
    "! head -n 10 data/whites.csv"
   ]
  },
  {
   "cell_type": "code",
   "execution_count": 87,
   "metadata": {},
   "outputs": [
    {
     "data": {
      "text/plain": [
       "[Row(fixed acidity=7.0, volatile acidity=0.27, citric acid=0.36, residual sugar=20.7, chlorides=0.045, free sulfur dioxide=45.0, total sulfur dioxide=170.0, density=1.001, pH=3.0, sulphates=0.45, alcohol=8.8, quality=6),\n",
       " Row(fixed acidity=6.3, volatile acidity=0.3, citric acid=0.34, residual sugar=1.6, chlorides=0.049, free sulfur dioxide=14.0, total sulfur dioxide=132.0, density=0.994, pH=3.3, sulphates=0.49, alcohol=9.5, quality=6)]"
      ]
     },
     "execution_count": 87,
     "metadata": {},
     "output_type": "execute_result"
    }
   ],
   "source": [
    "# load the raw data into an RDD (Reading from a text file into an RDD)\n",
    "# rdd = sc.textFile(data_file).filter(lambda x: x != header[0])\n",
    "\n",
    "# Load raw data into csv\n",
    "data_file = 'data/whites.csv'\n",
    "df = spark.read.csv(data_file, header=True, sep=\";\", inferSchema=True);\n",
    "\n",
    "FIELDS = df.columns\n",
    "TARGET_FIELD = FIELDS[-1]\n",
    "FEATURE_FIELDS = FIELDS[:-1]\n",
    "\n",
    "rdd = df.rdd\n",
    "rdd.take(2)"
   ]
  },
  {
   "cell_type": "markdown",
   "metadata": {},
   "source": [
    "## 2. EDA and feature selection\n",
    "\n",
    "A statistician's approach to Linear Regression typically involves a series of EDA steps to **examine each feature** in the data and then series of steps to **test assumptions about their potential contribution to a multi-feature linear model**. \n",
    "\n",
    "In particular, we'd want to look for a set of features that\n",
    "- Exhibit a likely linear relationship with the outcome variable \n",
    "- Are _not_ highy correlated with each other \n",
    "\n",
    "In the context of machine learning, these considerations remain important techniques for **improving model generalizability** despite the common practice to use model evaluation techniques (and large data sets) to get the final word on feature selection. \n",
    "\n",
    "Next, we'll briefly look at the features in our data set. To mimic an 'at scale' analysis we'll start by sampling from our Spark RDD training set so that we have a manageable amount of data to work with in our visuals."
   ]
  },
  {
   "cell_type": "code",
   "execution_count": 88,
   "metadata": {},
   "outputs": [],
   "source": [
    "# Let's take a 1000 point sample for EDA\n",
    "sample = np.array(rdd.takeSample(False, 1000))\n",
    "\n",
    "# Creating a pandas dataframe for statistical analysis\n",
    "sample_df = pd.DataFrame(sample, columns = FIELDS)"
   ]
  },
  {
   "cell_type": "code",
   "execution_count": 89,
   "metadata": {},
   "outputs": [
    {
     "data": {
      "text/html": [
       "<div>\n",
       "<style scoped>\n",
       "    .dataframe tbody tr th:only-of-type {\n",
       "        vertical-align: middle;\n",
       "    }\n",
       "\n",
       "    .dataframe tbody tr th {\n",
       "        vertical-align: top;\n",
       "    }\n",
       "\n",
       "    .dataframe thead th {\n",
       "        text-align: right;\n",
       "    }\n",
       "</style>\n",
       "<table border=\"1\" class=\"dataframe\">\n",
       "  <thead>\n",
       "    <tr style=\"text-align: right;\">\n",
       "      <th></th>\n",
       "      <th>fixed acidity</th>\n",
       "      <th>volatile acidity</th>\n",
       "      <th>citric acid</th>\n",
       "      <th>residual sugar</th>\n",
       "      <th>chlorides</th>\n",
       "      <th>free sulfur dioxide</th>\n",
       "      <th>total sulfur dioxide</th>\n",
       "      <th>density</th>\n",
       "      <th>pH</th>\n",
       "      <th>sulphates</th>\n",
       "      <th>alcohol</th>\n",
       "      <th>quality</th>\n",
       "    </tr>\n",
       "  </thead>\n",
       "  <tbody>\n",
       "    <tr>\n",
       "      <td>0</td>\n",
       "      <td>6.4</td>\n",
       "      <td>0.260</td>\n",
       "      <td>0.35</td>\n",
       "      <td>7.7</td>\n",
       "      <td>0.056</td>\n",
       "      <td>45.0</td>\n",
       "      <td>191.0</td>\n",
       "      <td>0.99527</td>\n",
       "      <td>3.16</td>\n",
       "      <td>0.50</td>\n",
       "      <td>9.5</td>\n",
       "      <td>5.0</td>\n",
       "    </tr>\n",
       "    <tr>\n",
       "      <td>1</td>\n",
       "      <td>6.8</td>\n",
       "      <td>0.210</td>\n",
       "      <td>0.55</td>\n",
       "      <td>14.6</td>\n",
       "      <td>0.053</td>\n",
       "      <td>34.0</td>\n",
       "      <td>159.0</td>\n",
       "      <td>0.99805</td>\n",
       "      <td>2.93</td>\n",
       "      <td>0.44</td>\n",
       "      <td>9.2</td>\n",
       "      <td>5.0</td>\n",
       "    </tr>\n",
       "    <tr>\n",
       "      <td>2</td>\n",
       "      <td>5.2</td>\n",
       "      <td>0.335</td>\n",
       "      <td>0.20</td>\n",
       "      <td>1.7</td>\n",
       "      <td>0.033</td>\n",
       "      <td>17.0</td>\n",
       "      <td>74.0</td>\n",
       "      <td>0.99002</td>\n",
       "      <td>3.34</td>\n",
       "      <td>0.48</td>\n",
       "      <td>12.3</td>\n",
       "      <td>6.0</td>\n",
       "    </tr>\n",
       "    <tr>\n",
       "      <td>3</td>\n",
       "      <td>6.2</td>\n",
       "      <td>0.120</td>\n",
       "      <td>0.26</td>\n",
       "      <td>5.7</td>\n",
       "      <td>0.044</td>\n",
       "      <td>56.0</td>\n",
       "      <td>158.0</td>\n",
       "      <td>0.99510</td>\n",
       "      <td>3.52</td>\n",
       "      <td>0.37</td>\n",
       "      <td>10.5</td>\n",
       "      <td>6.0</td>\n",
       "    </tr>\n",
       "    <tr>\n",
       "      <td>4</td>\n",
       "      <td>5.5</td>\n",
       "      <td>0.190</td>\n",
       "      <td>0.27</td>\n",
       "      <td>0.9</td>\n",
       "      <td>0.040</td>\n",
       "      <td>52.0</td>\n",
       "      <td>103.0</td>\n",
       "      <td>0.99026</td>\n",
       "      <td>3.50</td>\n",
       "      <td>0.39</td>\n",
       "      <td>11.2</td>\n",
       "      <td>5.0</td>\n",
       "    </tr>\n",
       "  </tbody>\n",
       "</table>\n",
       "</div>"
      ],
      "text/plain": [
       "   fixed acidity  volatile acidity  citric acid  residual sugar  chlorides  \\\n",
       "0            6.4             0.260         0.35             7.7      0.056   \n",
       "1            6.8             0.210         0.55            14.6      0.053   \n",
       "2            5.2             0.335         0.20             1.7      0.033   \n",
       "3            6.2             0.120         0.26             5.7      0.044   \n",
       "4            5.5             0.190         0.27             0.9      0.040   \n",
       "\n",
       "   free sulfur dioxide  total sulfur dioxide  density    pH  sulphates  \\\n",
       "0                 45.0                 191.0  0.99527  3.16       0.50   \n",
       "1                 34.0                 159.0  0.99805  2.93       0.44   \n",
       "2                 17.0                  74.0  0.99002  3.34       0.48   \n",
       "3                 56.0                 158.0  0.99510  3.52       0.37   \n",
       "4                 52.0                 103.0  0.99026  3.50       0.39   \n",
       "\n",
       "   alcohol  quality  \n",
       "0      9.5      5.0  \n",
       "1      9.2      5.0  \n",
       "2     12.3      6.0  \n",
       "3     10.5      6.0  \n",
       "4     11.2      5.0  "
      ]
     },
     "execution_count": 89,
     "metadata": {},
     "output_type": "execute_result"
    }
   ],
   "source": [
    "# Peeking into the data\n",
    "sample_df.head()"
   ]
  },
  {
   "cell_type": "markdown",
   "metadata": {},
   "source": [
    "### Univariate analysis"
   ]
  },
  {
   "cell_type": "code",
   "execution_count": 90,
   "metadata": {},
   "outputs": [
    {
     "name": "stdout",
     "output_type": "stream",
     "text": [
      "<class 'pandas.core.frame.DataFrame'>\n",
      "RangeIndex: 1000 entries, 0 to 999\n",
      "Data columns (total 12 columns):\n",
      "fixed acidity           1000 non-null float64\n",
      "volatile acidity        1000 non-null float64\n",
      "citric acid             1000 non-null float64\n",
      "residual sugar          1000 non-null float64\n",
      "chlorides               1000 non-null float64\n",
      "free sulfur dioxide     1000 non-null float64\n",
      "total sulfur dioxide    1000 non-null float64\n",
      "density                 1000 non-null float64\n",
      "pH                      1000 non-null float64\n",
      "sulphates               1000 non-null float64\n",
      "alcohol                 1000 non-null float64\n",
      "quality                 1000 non-null float64\n",
      "dtypes: float64(12)\n",
      "memory usage: 93.9 KB\n"
     ]
    }
   ],
   "source": [
    "# Let's inspect the datatypes and null values\n",
    "sample_df.info()"
   ]
  },
  {
   "cell_type": "markdown",
   "metadata": {},
   "source": [
    "- Data has only float values.\n",
    "- No variable column has null/missing values."
   ]
  },
  {
   "cell_type": "code",
   "execution_count": 91,
   "metadata": {},
   "outputs": [
    {
     "data": {
      "text/html": [
       "<div>\n",
       "<style scoped>\n",
       "    .dataframe tbody tr th:only-of-type {\n",
       "        vertical-align: middle;\n",
       "    }\n",
       "\n",
       "    .dataframe tbody tr th {\n",
       "        vertical-align: top;\n",
       "    }\n",
       "\n",
       "    .dataframe thead th {\n",
       "        text-align: right;\n",
       "    }\n",
       "</style>\n",
       "<table border=\"1\" class=\"dataframe\">\n",
       "  <thead>\n",
       "    <tr style=\"text-align: right;\">\n",
       "      <th></th>\n",
       "      <th>fixed acidity</th>\n",
       "      <th>volatile acidity</th>\n",
       "      <th>citric acid</th>\n",
       "      <th>residual sugar</th>\n",
       "      <th>chlorides</th>\n",
       "      <th>free sulfur dioxide</th>\n",
       "      <th>total sulfur dioxide</th>\n",
       "      <th>density</th>\n",
       "      <th>pH</th>\n",
       "      <th>sulphates</th>\n",
       "      <th>alcohol</th>\n",
       "      <th>quality</th>\n",
       "    </tr>\n",
       "  </thead>\n",
       "  <tbody>\n",
       "    <tr>\n",
       "      <td>count</td>\n",
       "      <td>1000.000000</td>\n",
       "      <td>1000.000000</td>\n",
       "      <td>1000.000000</td>\n",
       "      <td>1000.000000</td>\n",
       "      <td>1000.000000</td>\n",
       "      <td>1000.000000</td>\n",
       "      <td>1000.000000</td>\n",
       "      <td>1000.000000</td>\n",
       "      <td>1000.000000</td>\n",
       "      <td>1000.000000</td>\n",
       "      <td>1000.000000</td>\n",
       "      <td>1000.000000</td>\n",
       "    </tr>\n",
       "    <tr>\n",
       "      <td>mean</td>\n",
       "      <td>6.842750</td>\n",
       "      <td>0.276155</td>\n",
       "      <td>0.326510</td>\n",
       "      <td>6.580350</td>\n",
       "      <td>0.045275</td>\n",
       "      <td>35.890500</td>\n",
       "      <td>139.664500</td>\n",
       "      <td>0.994111</td>\n",
       "      <td>3.186180</td>\n",
       "      <td>0.484390</td>\n",
       "      <td>10.488207</td>\n",
       "      <td>5.900000</td>\n",
       "    </tr>\n",
       "    <tr>\n",
       "      <td>std</td>\n",
       "      <td>0.865346</td>\n",
       "      <td>0.097995</td>\n",
       "      <td>0.117259</td>\n",
       "      <td>4.971963</td>\n",
       "      <td>0.020833</td>\n",
       "      <td>18.484113</td>\n",
       "      <td>42.239174</td>\n",
       "      <td>0.002862</td>\n",
       "      <td>0.153084</td>\n",
       "      <td>0.108957</td>\n",
       "      <td>1.218584</td>\n",
       "      <td>0.893755</td>\n",
       "    </tr>\n",
       "    <tr>\n",
       "      <td>min</td>\n",
       "      <td>3.800000</td>\n",
       "      <td>0.080000</td>\n",
       "      <td>0.000000</td>\n",
       "      <td>0.700000</td>\n",
       "      <td>0.013000</td>\n",
       "      <td>3.000000</td>\n",
       "      <td>10.000000</td>\n",
       "      <td>0.987460</td>\n",
       "      <td>2.800000</td>\n",
       "      <td>0.270000</td>\n",
       "      <td>8.400000</td>\n",
       "      <td>3.000000</td>\n",
       "    </tr>\n",
       "    <tr>\n",
       "      <td>25%</td>\n",
       "      <td>6.300000</td>\n",
       "      <td>0.210000</td>\n",
       "      <td>0.260000</td>\n",
       "      <td>1.800000</td>\n",
       "      <td>0.036000</td>\n",
       "      <td>23.000000</td>\n",
       "      <td>110.000000</td>\n",
       "      <td>0.991797</td>\n",
       "      <td>3.080000</td>\n",
       "      <td>0.410000</td>\n",
       "      <td>9.500000</td>\n",
       "      <td>5.000000</td>\n",
       "    </tr>\n",
       "    <tr>\n",
       "      <td>50%</td>\n",
       "      <td>6.800000</td>\n",
       "      <td>0.260000</td>\n",
       "      <td>0.310000</td>\n",
       "      <td>5.400000</td>\n",
       "      <td>0.042000</td>\n",
       "      <td>34.000000</td>\n",
       "      <td>134.500000</td>\n",
       "      <td>0.993850</td>\n",
       "      <td>3.180000</td>\n",
       "      <td>0.470000</td>\n",
       "      <td>10.400000</td>\n",
       "      <td>6.000000</td>\n",
       "    </tr>\n",
       "    <tr>\n",
       "      <td>75%</td>\n",
       "      <td>7.300000</td>\n",
       "      <td>0.320000</td>\n",
       "      <td>0.380000</td>\n",
       "      <td>10.200000</td>\n",
       "      <td>0.050000</td>\n",
       "      <td>47.000000</td>\n",
       "      <td>168.250000</td>\n",
       "      <td>0.996300</td>\n",
       "      <td>3.280000</td>\n",
       "      <td>0.540000</td>\n",
       "      <td>11.400000</td>\n",
       "      <td>6.000000</td>\n",
       "    </tr>\n",
       "    <tr>\n",
       "      <td>max</td>\n",
       "      <td>10.700000</td>\n",
       "      <td>1.005000</td>\n",
       "      <td>1.000000</td>\n",
       "      <td>22.000000</td>\n",
       "      <td>0.301000</td>\n",
       "      <td>289.000000</td>\n",
       "      <td>440.000000</td>\n",
       "      <td>1.001000</td>\n",
       "      <td>3.790000</td>\n",
       "      <td>0.980000</td>\n",
       "      <td>14.000000</td>\n",
       "      <td>9.000000</td>\n",
       "    </tr>\n",
       "  </tbody>\n",
       "</table>\n",
       "</div>"
      ],
      "text/plain": [
       "       fixed acidity  volatile acidity  citric acid  residual sugar  \\\n",
       "count    1000.000000       1000.000000  1000.000000     1000.000000   \n",
       "mean        6.842750          0.276155     0.326510        6.580350   \n",
       "std         0.865346          0.097995     0.117259        4.971963   \n",
       "min         3.800000          0.080000     0.000000        0.700000   \n",
       "25%         6.300000          0.210000     0.260000        1.800000   \n",
       "50%         6.800000          0.260000     0.310000        5.400000   \n",
       "75%         7.300000          0.320000     0.380000       10.200000   \n",
       "max        10.700000          1.005000     1.000000       22.000000   \n",
       "\n",
       "         chlorides  free sulfur dioxide  total sulfur dioxide      density  \\\n",
       "count  1000.000000          1000.000000           1000.000000  1000.000000   \n",
       "mean      0.045275            35.890500            139.664500     0.994111   \n",
       "std       0.020833            18.484113             42.239174     0.002862   \n",
       "min       0.013000             3.000000             10.000000     0.987460   \n",
       "25%       0.036000            23.000000            110.000000     0.991797   \n",
       "50%       0.042000            34.000000            134.500000     0.993850   \n",
       "75%       0.050000            47.000000            168.250000     0.996300   \n",
       "max       0.301000           289.000000            440.000000     1.001000   \n",
       "\n",
       "                pH    sulphates      alcohol      quality  \n",
       "count  1000.000000  1000.000000  1000.000000  1000.000000  \n",
       "mean      3.186180     0.484390    10.488207     5.900000  \n",
       "std       0.153084     0.108957     1.218584     0.893755  \n",
       "min       2.800000     0.270000     8.400000     3.000000  \n",
       "25%       3.080000     0.410000     9.500000     5.000000  \n",
       "50%       3.180000     0.470000    10.400000     6.000000  \n",
       "75%       3.280000     0.540000    11.400000     6.000000  \n",
       "max       3.790000     0.980000    14.000000     9.000000  "
      ]
     },
     "execution_count": 91,
     "metadata": {},
     "output_type": "execute_result"
    }
   ],
   "source": [
    "# Okay, time for a nice statistical summary\n",
    "sample_df.describe()"
   ]
  },
  {
   "cell_type": "markdown",
   "metadata": {},
   "source": [
    "#### Observations\n",
    "- Mean value is greater than median value of each column which is represented by 50%(50th percentile) in index column.\n",
    "- There is notably a large difference between 75th %tile and max values of predictors “residual sugar”,”free sulfur dioxide”,”total sulfur dioxide”.\n",
    "\n",
    "The above observations suggest that **there are extreme values-outliers** in our data set."
   ]
  },
  {
   "cell_type": "code",
   "execution_count": 92,
   "metadata": {},
   "outputs": [
    {
     "data": {
      "image/png": "[encoded data removed]",
      "text/plain": [
       "<Figure size 1080x1080 with 12 Axes>"
      ]
     },
     "metadata": {
      "needs_background": "light"
     },
     "output_type": "display_data"
    }
   ],
   "source": [
    "sample_df[FIELDS[:-1]].hist(figsize=(15,15), bins=15)\n",
    "plt.show()"
   ]
  },
  {
   "cell_type": "markdown",
   "metadata": {},
   "source": [
    "- “pH” and \"density\" columns appears to be normally distributed\n",
    "- Remaining all independent variables are right skewed/positively skewed.\n",
    "- The feature varying the most is 'alcohol'."
   ]
  },
  {
   "cell_type": "code",
   "execution_count": 93,
   "metadata": {},
   "outputs": [
    {
     "data": {
      "text/plain": [
       "6.0    452\n",
       "5.0    280\n",
       "7.0    193\n",
       "4.0     35\n",
       "8.0     33\n",
       "3.0      5\n",
       "9.0      2\n",
       "Name: quality, dtype: int64"
      ]
     },
     "execution_count": 93,
     "metadata": {},
     "output_type": "execute_result"
    }
   ],
   "source": [
    "sample_df.quality.value_counts()"
   ]
  },
  {
   "cell_type": "markdown",
   "metadata": {},
   "source": [
    "- Target variable/Dependent variable is discrete and **categorical** in nature.\n",
    "- 1,2 & 10 Quality ratings are not given by any observation. Only scores obtained are between 3 to 9.\n",
    "- “quality” has most values concentrated in the categories 5, 6 and 7."
   ]
  },
  {
   "cell_type": "markdown",
   "metadata": {},
   "source": [
    "### Multivariate analysis"
   ]
  },
  {
   "cell_type": "code",
   "execution_count": 94,
   "metadata": {},
   "outputs": [
    {
     "data": {
      "image/png": "[encoded data removed]",
      "text/plain": [
       "<Figure size 1080x1080 with 12 Axes>"
      ]
     },
     "metadata": {
      "needs_background": "light"
     },
     "output_type": "display_data"
    }
   ],
   "source": [
    "# plot boxplots of each feature vs. the outcome\n",
    "fig, ax_grid = plt.subplots(4, 3, figsize=(15,15))\n",
    "\n",
    "y = sample_df[TARGET_FIELD]\n",
    "\n",
    "for idx, feature in enumerate(FEATURE_FIELDS):\n",
    "    x = sample_df[feature]\n",
    "    # Plotting the box plot\n",
    "    sns.boxplot(x, y, ax=ax_grid[idx//3][idx%3], orient='h', linewidth=.5)\n",
    "    ax_grid[idx//3][idx%3].invert_yaxis()\n",
    "\n",
    "fig.suptitle(f\"Individual Features vs {TARGET_FIELD}\", fontsize=15, y=0.9)\n",
    "plt.show()"
   ]
  },
  {
   "cell_type": "markdown",
   "metadata": {},
   "source": [
    "The box plot (a.k.a. box and whisker diagram) is a standardized way of displaying the distribution of data based on the five number summary:\n",
    "\n",
    "- Minimum\n",
    "- First quartile\n",
    "- Median\n",
    "- Third quartile\n",
    "- Maximum\n",
    "\n",
    "A **segment** inside the rectangle shows the median and **“whiskers”** above and below the box show the locations of the minimum and maximum.\n",
    "\n",
    "- Outliers are either 3×IQR or more above the third quartile or 3×IQR or more below the first quartile.\n",
    "\n",
    "In our dataset, all features columns shows outliers."
   ]
  },
  {
   "cell_type": "code",
   "execution_count": 95,
   "metadata": {},
   "outputs": [
    {
     "data": {
      "image/png": "[encoded data removed]",
      "text/plain": [
       "<Figure size 864x720 with 2 Axes>"
      ]
     },
     "metadata": {
      "needs_background": "light"
     },
     "output_type": "display_data"
    }
   ],
   "source": [
    "# plot heatmap for correlations matrix\n",
    "corr = sample_df.corr()\n",
    "\n",
    "fig, ax = plt.subplots(figsize=(12, 10))\n",
    "\n",
    "mask = np.zeros_like(corr, dtype=np.bool)\n",
    "mask[np.triu_indices_from(mask)] = True\n",
    "cmap = sns.diverging_palette(240, 10, as_cmap=True)\n",
    "sns.heatmap(corr, mask=mask, cmap=cmap, center=0, linewidths=.5, annot=True)\n",
    "\n",
    "plt.title(\"Correlations between features.\")\n",
    "plt.show()"
   ]
  },
  {
   "cell_type": "markdown",
   "metadata": {},
   "source": [
    "### Some observations\n",
    "-  The total SO2 is correlated to free S02 (which is quite obvious).\n",
    "- \"Density\" has strong positive correlation with \"residual sugar\" whereas it has strong negative correlation with \"alcohol\".\n",
    "- \"Sulphates\" and \"citric acid\" has almost no correlation with \"quality\"\n",
    "\n",
    "\n",
    "1. Features that are **uncorrelated with respect to Target variable**, possess less of an information regarding Target variable. Hence it is a good practice to remove such variables. \n",
    "2. Features that are **correlated among themselves**, which tend to give similar information. Hence are redundant and good to remove one of two depending their correlation with respect to target variable."
   ]
  },
  {
   "cell_type": "markdown",
   "metadata": {},
   "source": [
    "## 3. Removing columns and preparing train-test split"
   ]
  },
  {
   "cell_type": "code",
   "execution_count": 96,
   "metadata": {},
   "outputs": [],
   "source": [
    "columns_to_drop = ['citric acid', 'density']\n",
    "df = df.drop(*columns_to_drop)\n",
    "FIELDS = df.columns\n",
    "FEATURE_FIELDS = FIELDS[:-1]"
   ]
  },
  {
   "cell_type": "code",
   "execution_count": 97,
   "metadata": {},
   "outputs": [
    {
     "data": {
      "text/plain": [
       "['fixed acidity',\n",
       " 'volatile acidity',\n",
       " 'residual sugar',\n",
       " 'chlorides',\n",
       " 'free sulfur dioxide',\n",
       " 'total sulfur dioxide',\n",
       " 'pH',\n",
       " 'sulphates',\n",
       " 'alcohol']"
      ]
     },
     "execution_count": 97,
     "metadata": {},
     "output_type": "execute_result"
    }
   ],
   "source": [
    "FEATURE_FIELDS"
   ]
  },
  {
   "cell_type": "code",
   "execution_count": null,
   "metadata": {},
   "outputs": [],
   "source": [
    "# Ignore!\n",
    "a, b = df.rdd.map(lambda x: (np.array(x[:-1], dtype=\"float\"), x[-1])).cache().randomSplit([TRAIN_TEST_SPLIT, 1 - TRAIN_TEST_SPLIT], seed = 1)\n",
    "a.collect()"
   ]
  },
  {
   "cell_type": "code",
   "execution_count": 98,
   "metadata": {},
   "outputs": [],
   "source": [
    "def normalize(rdd):\n",
    "    # Caclulate mean of features\n",
    "    feature_means = rdd.map(lambda x: x[0]).mean()\n",
    "    # Calculate variance too\n",
    "    features_standard_dev = np.sqrt(rdd.map(lambda x: x[0]).variance())\n",
    "    # Normalize the values\n",
    "    normed_rdd = rdd.map(lambda x: (np.subtract(x[0], feature_means) / features_standard_dev, x[1]))\n",
    "    return normed_rdd"
   ]
  },
  {
   "cell_type": "markdown",
   "metadata": {},
   "source": [
    "### Train test split"
   ]
  },
  {
   "cell_type": "code",
   "execution_count": 110,
   "metadata": {},
   "outputs": [
    {
     "name": "stdout",
     "output_type": "stream",
     "text": [
      "Number of training records: 3920\n",
      "Number of testing records: 978\n"
     ]
    }
   ],
   "source": [
    "# Split ratios\n",
    "TRAIN_TEST_SPLIT = 0.8\n",
    "split_ratios = [TRAIN_TEST_SPLIT, 1 - TRAIN_TEST_SPLIT]\n",
    "\n",
    "# Remember: x[-1] is our label value, and x[:-1] are our feature values\n",
    "rdd = df.rdd.map(lambda x: (np.array(x[:-1], dtype=float), x[-1]))\n",
    "normalized_rdd = normalize(rdd)\n",
    "train_rdd, test_rdd = normalized_rdd.randomSplit(split_ratios, seed=101)\n",
    "print(f\"Number of training records: {train_rdd.count()}\\nNumber of testing records: {test_rdd.count()}\")"
   ]
  },
  {
   "cell_type": "code",
   "execution_count": 100,
   "metadata": {},
   "outputs": [
    {
     "data": {
      "text/plain": [
       "[(array([-0.65750113,  0.21589563, -0.94476527,  0.14774708, -1.25301866,\n",
       "         -0.14968462,  0.74002864,  0.00134185, -0.82427568]), 6),\n",
       " (array([ 1.4757511 ,  0.01745194,  0.10028219,  0.1935226 , -0.31214112,\n",
       "         -0.97333563,  0.47510198, -0.43681578, -0.33666701]), 6),\n",
       " (array([ 0.40912499, -0.47865728,  0.41576822,  0.55972676,  0.68754127,\n",
       "          1.12109121,  0.01148034, -0.78734189, -0.49920323]), 6)]"
      ]
     },
     "execution_count": 100,
     "metadata": {},
     "output_type": "execute_result"
    }
   ],
   "source": [
    "train_rdd.take(3)"
   ]
  },
  {
   "cell_type": "markdown",
   "metadata": {},
   "source": [
    "## Linear regression refresher\n",
    "\n",
    "\n",
    "![https://miro.medium.com/max/1280/1*fX95txC9xSwSPeP6ch2nmg.gif](https://miro.medium.com/max/1280/1*fX95txC9xSwSPeP6ch2nmg.gif)\n",
    "\n",
    "![https://www.jmp.com/en_hk/statistics-knowledge-portal/what-is-multiple-regression/fitting-multiple-regression-model/_jcr_content/par/styledcontainer_2069/par/lightbox_4130/lightboxImage.img.png/1548704005203.png](https://www.jmp.com/en_hk/statistics-knowledge-portal/what-is-multiple-regression/fitting-multiple-regression-model/_jcr_content/par/styledcontainer_2069/par/lightbox_4130/lightboxImage.img.png/1548704005203.png)\n",
    "\n",
    "![https://vrzkj25a871bpq7t1ugcgmn9-wpengine.netdna-ssl.com/wp-content/uploads/2018/08/linear-regression-equation-explained.png](https://vrzkj25a871bpq7t1ugcgmn9-wpengine.netdna-ssl.com/wp-content/uploads/2018/08/linear-regression-equation-explained.png)\n",
    "\n",
    "\n",
    "\n",
    "Y = W.X"
   ]
  },
  {
   "cell_type": "markdown",
   "metadata": {},
   "source": [
    "#### Choosing a baseline model\n",
    "\n",
    "We'll \"choose\" a baseline model and then write a function to compute the loss of a linear model in Spark. We'll reuse this function when we implement gradient descent."
   ]
  },
  {
   "cell_type": "code",
   "execution_count": null,
   "metadata": {},
   "outputs": [],
   "source": [
    "# Using mean and variance operations on RDD\n",
    "mean_target_value = train_rdd.map(lambda x: x[1]).mean()\n",
    "target_variance = train_rdd.map(lambda x: x[1]).variance()\n",
    "print(f\"Mean: {mean_target_value}\")\n",
    "print(f\"Variance: {target_variance}\")"
   ]
  },
  {
   "cell_type": "code",
   "execution_count": 101,
   "metadata": {},
   "outputs": [
    {
     "name": "stdout",
     "output_type": "stream",
     "text": [
      "[5.87653061 0.         0.         0.         0.         0.\n",
      " 0.         0.         0.         0.        ]\n"
     ]
    }
   ],
   "source": [
    "# Baseline model\n",
    "# Appending the bias coefficient to get the final weights\n",
    "BASELINE = np.append([mean_target_value], np.zeros(len(train_rdd.take(1)[0][0]), dtype=np.float64))\n",
    "print(BASELINE)"
   ]
  },
  {
   "cell_type": "markdown",
   "metadata": {},
   "source": [
    "### Defining the cost function"
   ]
  },
  {
   "cell_type": "code",
   "execution_count": 104,
   "metadata": {},
   "outputs": [],
   "source": [
    "def squared_error(args):\n",
    "    label, prediction = args[0], args[1]\n",
    "    return (label - prediction)*(label - prediction)\n",
    "\n",
    "def augment_data(rdd):\n",
    "    return rdd.map(lambda x: ( np.append([1.0], x[0].astype(np.float32, copy=False)), x[1] ))\n",
    "\n",
    "def ols_loss(rdd, weights):\n",
    "    \"\"\"\n",
    "    This method takes in rdd of the form `(features, label)` and a weights array of the dimensions 1 greater\n",
    "    than features (\"1\" for bias), and returns the RMS error.\n",
    "    \"\"\"\n",
    "    # Augmenting data for bias\n",
    "    augmented_data = augment_data(rdd)\n",
    "    # calculate the loss\n",
    "    loss = augmented_data.map(lambda x: ( np.dot(x[0], weights), x[1]) ).map(squared_error).mean()\n",
    "    return np.sqrt(loss)"
   ]
  },
  {
   "cell_type": "code",
   "execution_count": 105,
   "metadata": {},
   "outputs": [
    {
     "name": "stdout",
     "output_type": "stream",
     "text": [
      "Baseline model loss (RMSE): 0.8858641601777211\n"
     ]
    }
   ],
   "source": [
    "print(f\"Baseline model loss (RMSE): {ols_loss(train_rdd, BASELINE)}\")"
   ]
  },
  {
   "cell_type": "markdown",
   "metadata": {},
   "source": [
    "## Vanilla Gradient Descent\n",
    "\n",
    "![https://i.ytimg.com/vi/b4Vyma9wPHo/maxresdefault.jpg](https://i.ytimg.com/vi/b4Vyma9wPHo/maxresdefault.jpg)\n",
    "\n",
    "Performing Gradient Descent technically only requires two steps:\n",
    "\n",
    "1) _use the current model to calculate the gradient_\n",
    "\n",
    "2) _use the gradient to update the current model parameters_. \n",
    "\n",
    "In practice though, we'll want to add a third step which is to compute the loss for our new model so that we can see if its working. Next, we'll implement gradient descent for OLS regression and take a look at a few update steps.\n",
    "\n",
    "### Gradient descent formula for OLS regression\n",
    "\n",
    "![https://camo.githubusercontent.com/f35bdd81399069b6e42a34577e4435efc03f05a7/68747470733a2f2f322e62702e626c6f6773706f742e636f6d2f2d5a784a383763576a504a382f54744c74777176306843492f41414141414141414156302f3946597163784a36644e592f73313630302f6772616469656e742b64657363656e742b616c676f726974686d2b4f4c532e706e67](https://camo.githubusercontent.com/f35bdd81399069b6e42a34577e4435efc03f05a7/68747470733a2f2f322e62702e626c6f6773706f742e636f6d2f2d5a784a383763576a504a382f54744c74777176306843492f41414141414141414156302f3946597163784a36644e592f73313630302f6772616469656e742b64657363656e742b616c676f726974686d2b4f4c532e706e67)\n",
    "\n"
   ]
  },
  {
   "cell_type": "code",
   "execution_count": 108,
   "metadata": {},
   "outputs": [],
   "source": [
    "def gradient_descent_update(rdd, weights, lr=0.1):\n",
    "    \"\"\"\n",
    "    Performs one gradient descent update. Returns updated coefficients,\n",
    "    with bias at index 0.\n",
    "    \"\"\"\n",
    "    # First map yields a 3-tuple value (prediction, label, features)\n",
    "    # Second map yields single value \"(prediction - label) * features\"\n",
    "    gradients = rdd\\\n",
    "                    .map(lambda x: (np.dot(x[0], weights), x[1], x[0]))\\\n",
    "                    .map(lambda x: np.dot(x[0]- x[1], x[2])) \n",
    "    \n",
    "    total = gradients.count() # The m value\n",
    "    sum_of_gradients = gradients.sum() # The summation\n",
    "    \n",
    "    # Update weights\n",
    "    updated_weights = weights - lr * (1.0 / total) * sum_of_gradients\n",
    "   \n",
    "    return updated_weights"
   ]
  },
  {
   "cell_type": "code",
   "execution_count": 122,
   "metadata": {},
   "outputs": [
    {
     "name": "stdout",
     "output_type": "stream",
     "text": [
      "BASELINE:  Loss = 0.8858641601777227\n",
      "----------\n",
      "STEP: 1\n",
      "Loss: 0.8576508803370566\n",
      "Model: [5.876530643774538, -0.009307420727579858, -0.017437703198820546, -0.008902053102168518, -0.018792715768660196, 0.0003995151395109741, -0.016056005295413244, 0.007743797898754903, 0.004505272356530396, 0.03915009589627907]\n",
      "----------\n",
      "STEP: 2\n",
      "Loss: 0.8375276647905022\n",
      "Model: [5.876580400029004, -0.016680230728180825, -0.033048014036168125, -0.01393675972917991, -0.03368482249502327, 0.0029368546189954712, -0.02789775702511149, 0.013408841545045883, 0.00865932916938, 0.0725018267918334]\n",
      "----------\n",
      "STEP: 3\n",
      "Loss: 0.8227695589642535\n",
      "Model: [5.876664902852987, -0.02253317038230227, -0.04704363647440119, -0.016101998506143224, -0.04545199953013556, 0.006865392033463107, -0.03659512034553878, 0.01747535380856624, 0.0124630616763386, 0.10123066243603124]\n",
      "----------\n",
      "STEP: 4\n",
      "Loss: 0.8116251383472519\n",
      "Model: [5.876772890515445, -0.02718943957465075, -0.05961013465540538, -0.01615361860086175, -0.05470533873498224, 0.011642993193042472, -0.04295226791706021, 0.020316446670441836, 0.015927664042417557, 0.1262450073513926]\n",
      "----------\n",
      "STEP: 5\n",
      "Loss: 0.8029696840125159\n",
      "Model: [5.876895953655263, -0.0309013524397037, -0.07090980045098769, -0.014663601713361412, -0.06192834081868352, 0.01688001052935955, -0.04757275336143764, 0.022222168115757095, 0.019070735329113467, 0.1482491361276525]\n",
      "----------\n",
      "STEP: 6\n",
      "Loss: 0.7960751067916011\n",
      "Model: [5.877027849999289, -0.03386624801118689, -0.081084891840707, -0.012064258690441768, -0.06750530491213587, 0.022300123305320097, -0.050908771916060386, 0.023418057551489544, 0.02191351819425415, 0.16779111180166204]\n",
      "----------\n",
      "STEP: 7\n",
      "Loss: 0.7904627873450523\n",
      "Model: [5.8771639819895904, -0.03623876195077831, -0.09026035890137964, -0.00868181545135027, -0.07174314920596454, 0.02771089157446813, -0.05329843415646365, 0.024079484282596174, 0.024478972447570652, 0.18529928732920015]\n",
      "----------\n",
      "STEP: 8\n",
      "Loss: 0.7858113798183011\n",
      "Model: [5.877300998573054, -0.03814030432567704, -0.0985461501162618, -0.0047619366793001045, -0.07488821388336232, 0.032981650719549734, -0.05499395521834215, 0.02434274410002397, 0.02679045830305314, 0.20111012546410037]\n",
      "----------\n",
      "STEP: 9\n",
      "Loss: 0.7818996125664538\n",
      "Model: [5.877436491648294, -0.039666389924425866, -0.10603917295422671, -0.0004891233337344508, -0.07713922763331084, 0.0380269489960324, -0.05618296109675431, 0.024313660526932304, 0.02887086183658718, 0.21548941553583426]\n",
      "----------\n",
      "STEP: 10\n",
      "Loss: 0.778570863792953\n",
      "Model: [5.877568764696389, -0.0408923161285715, -0.11282496800730281, 0.00399854514191702, -0.07865733772047594, 0.04279416700788843, -0.05700458172270003, 0.024074262819805285, 0.03074203844500029, 0.22864846666953056]\n",
      "----------\n",
      "STEP: 11\n",
      "Loss: 0.775711121788506\n",
      "Model: [5.877696656472863, -0.04187756769802716, -0.11897914447316904, 0.008598206403759464, -0.07957388963234038, 0.04725428899726901, -0.057561596911421764, 0.02368797956102824, 0.03242448254344053, 0.24075647795713528]\n",
      "----------\n",
      "STEP: 12\n",
      "Loss: 0.7732351346582533\n",
      "Model: [5.8778194067111915, -0.04266923946063109, -0.12456861571108448, 0.013233699498680092, -0.07999647955480492, 0.051395046701630566, -0.05792959503847035, 0.023203684816102056, 0.03393715600427424, 0.25194999813141405]\n",
      "----------\n",
      "STEP: 13\n",
      "Loss: 0.7710775764922592\n",
      "Model: [5.877936553888976, -0.04330470033684077, -0.1296526664358129, 0.017849092698177898, -0.08001367906269116, 0.055215846649952105, -0.05816387196597905, 0.02265885590780925, 0.035297425952705325, 0.2623401685171384]\n",
      "----------\n",
      "STEP: 14\n",
      "Loss: 0.7691873046032855\n",
      "Model: [5.878047857469344, -0.043813670441988695, -0.13428387742247808, 0.022403764626418347, -0.07969873712048203, 0.05872403580377387, -0.058304621500061965, 0.022082042205736837, 0.036521076018523564, 0.2720182768042524]\n",
      "----------\n",
      "STEP: 15\n",
      "Loss: 0.7675235411441729\n",
      "Model: [5.878153238828982, -0.04421984343149778, -0.1385089290514671, 0.026868666129249305, -0.0791124926818981, 0.0619321695321023, -0.05838083498820775, 0.02149479861987662, 0.037622365152325365, 0.28106002287414605]\n"
     ]
    }
   ],
   "source": [
    "# Test it out if it works\n",
    "num_iterations = 15\n",
    "model = BASELINE.astype(np.float32, copy=False)\n",
    "print(f\"BASELINE:  Loss = {ols_loss(train_rdd, model)}\")\n",
    "\n",
    "# Add a feature of 1 corresponding to bias at index 0\n",
    "# Each worker can cache their partition data if the RDD needs to be re-iterated.\n",
    "augmented_data = augment_data(train_rdd).cache()\n",
    "\n",
    "# Printing stats\n",
    "for idx in range(num_iterations):\n",
    "    print(\"----------\")\n",
    "    print(f\"STEP: {idx+1}\")\n",
    "    model = gradient_descent_update(augmented_data, model)\n",
    "    loss = ols_loss(train_rdd, model)\n",
    "    print(f\"Loss: {loss}\")\n",
    "    print(f\"Model: {[w for w in model]}\")"
   ]
  },
  {
   "cell_type": "markdown",
   "metadata": {},
   "source": [
    "## 4. Training and evaluating the performance of our model.\n",
    "\n",
    "Printing out the loss as we perform each gradient descent step allows us to confirm that our Gradient Descent code appears to be working, but **this number doesn't accurately reflect \"how good\" our model is.** \n",
    "\n",
    "Next, we'll plot error curves for a test and training set in order to discuss model performance.\n"
   ]
  },
  {
   "cell_type": "code",
   "execution_count": 133,
   "metadata": {},
   "outputs": [],
   "source": [
    "augmented_data = augment_data(train_rdd).cache()\n",
    "\n",
    "# Combining everything into a function\n",
    "def gradient_descent(train_rdd, test_rdd, initial_weights, num_iterations=20, \n",
    "                    lr = 0.001):   \n",
    "    \n",
    "    # tracking the history\n",
    "    train_losses, test_losses, model_parameters = [], [], []\n",
    "\n",
    "    model = initial_weights\n",
    "    for idx in range(num_iterations): \n",
    "        # 1. Compute gradients\n",
    "        model = gradient_descent_update(rdd=augmented_data, weights=model)\n",
    "        # 2. Compute training loss\n",
    "        training_loss = ols_loss(train_rdd, model)\n",
    "        # 3. Compute test loss\n",
    "        test_loss = ols_loss(test_rdd, model)\n",
    "        \n",
    "        # Preserve history for later\n",
    "        train_losses.append(training_loss)\n",
    "        test_losses.append(test_loss)\n",
    "        model_parameters.append(model)\n",
    "        \n",
    "        # Printing stats\n",
    "        print(\"----------\")\n",
    "        print(f\"STEP: {idx+1}\")\n",
    "        print(f\"training loss: {training_loss}\")\n",
    "        print(f\"test loss: {test_loss}\")\n",
    "#         print(f\"Model: {[round(w,3) for w in model]}\")\n",
    "        \n",
    "    return train_losses, test_losses, model_parameters"
   ]
  },
  {
   "cell_type": "code",
   "execution_count": 134,
   "metadata": {},
   "outputs": [],
   "source": [
    "# plot error curves\n",
    "def plot_error_curve(train_losses, test_losses, title = None):\n",
    "    fig, ax = plt.subplots(1, 1, figsize = (16,8))\n",
    "    x = list(range(len(train_losses)))[1:]\n",
    "    \n",
    "    ax.plot(x, train_losses[1:], 'k--', label=\"Train loss\")\n",
    "    ax.plot(x, test_losses[1:], 'r--', label=\"Test loss\")\n",
    "    \n",
    "    ax.legend(loc='upper right', fontsize='x-large')\n",
    "    # Labels\n",
    "    plt.xlabel('Number of Iterations')\n",
    "    plt.ylabel('Mean Squared Error')\n",
    "    if title:\n",
    "        plt.title(title)\n",
    "    plt.show()"
   ]
  },
  {
   "cell_type": "code",
   "execution_count": 135,
   "metadata": {},
   "outputs": [
    {
     "name": "stdout",
     "output_type": "stream",
     "text": [
      "----------\n",
      "STEP: 1\n",
      "training loss: 0.8576508803715759\n",
      "test loss: 0.8574817680589509\n",
      "----------\n",
      "STEP: 2\n",
      "training loss: 0.8375276648419776\n",
      "test loss: 0.8385633488836367\n",
      "----------\n",
      "STEP: 3\n",
      "training loss: 0.8227695590222198\n",
      "test loss: 0.8248342139337227\n",
      "----------\n",
      "STEP: 4\n",
      "training loss: 0.8116251384057386\n",
      "test loss: 0.81457162559107\n",
      "----------\n",
      "STEP: 5\n",
      "training loss: 0.8029696840683157\n",
      "test loss: 0.8066767003989505\n",
      "----------\n",
      "STEP: 6\n",
      "training loss: 0.7960751068431557\n",
      "test loss: 0.8004433383901928\n",
      "----------\n",
      "STEP: 7\n",
      "training loss: 0.7904627873917576\n",
      "test loss: 0.7954110655419324\n",
      "----------\n",
      "STEP: 8\n",
      "training loss: 0.7858113798600906\n",
      "test loss: 0.7912732535338127\n",
      "----------\n",
      "STEP: 9\n",
      "training loss: 0.7818996126035477\n",
      "test loss: 0.7878204534905054\n",
      "----------\n",
      "STEP: 10\n",
      "training loss: 0.7785708638257087\n",
      "test loss: 0.7849054905352271\n",
      "----------\n",
      "STEP: 11\n",
      "training loss: 0.7757111218173387\n",
      "test loss: 0.7824218806825424\n",
      "----------\n",
      "STEP: 12\n",
      "training loss: 0.7732351346835811\n",
      "test loss: 0.7802903640729129\n",
      "----------\n",
      "STEP: 13\n",
      "training loss: 0.7710775765144855\n",
      "test loss: 0.7784503855894717\n",
      "----------\n",
      "STEP: 14\n",
      "training loss: 0.7691873046227807\n",
      "test loss: 0.776854606493743\n",
      "----------\n",
      "STEP: 15\n",
      "training loss: 0.7675235411612761\n",
      "test loss: 0.7754652901600143\n",
      "----------\n",
      "STEP: 16\n",
      "training loss: 0.7660532701706877\n",
      "test loss: 0.7742518619334635\n",
      "----------\n",
      "STEP: 17\n",
      "training loss: 0.7647494164034891\n",
      "test loss: 0.7731892171931758\n",
      "----------\n",
      "STEP: 18\n",
      "training loss: 0.7635895379218263\n",
      "test loss: 0.7722565160963952\n",
      "----------\n",
      "STEP: 19\n",
      "training loss: 0.762554864518742\n",
      "test loss: 0.7714363024005071\n",
      "----------\n",
      "STEP: 20\n",
      "training loss: 0.7616295748582426\n",
      "test loss: 0.7707138436348088\n",
      "----------\n",
      "STEP: 21\n",
      "training loss: 0.7608002426091387\n",
      "test loss: 0.7700766264571752\n",
      "----------\n",
      "STEP: 22\n",
      "training loss: 0.7600554051212878\n",
      "test loss: 0.7695139636251248\n",
      "----------\n",
      "STEP: 23\n",
      "training loss: 0.7593852229284024\n",
      "test loss: 0.769016683184881\n",
      "----------\n",
      "STEP: 24\n",
      "training loss: 0.7587812078785265\n",
      "test loss: 0.7685768795375025\n",
      "----------\n",
      "STEP: 25\n",
      "training loss: 0.758236003978631\n",
      "test loss: 0.7681877119492986\n",
      "----------\n",
      "STEP: 26\n",
      "training loss: 0.7577432092916957\n",
      "test loss: 0.7678432400192541\n",
      "----------\n",
      "STEP: 27\n",
      "training loss: 0.7572972301724897\n",
      "test loss: 0.7675382883162659\n",
      "----------\n",
      "STEP: 28\n",
      "training loss: 0.7568931612211363\n",
      "test loss: 0.7672683342928763\n",
      "----------\n",
      "STEP: 29\n",
      "training loss: 0.75652668585275\n",
      "test loss: 0.767029414942521\n",
      "----------\n",
      "STEP: 30\n",
      "training loss: 0.7561939935063551\n",
      "test loss: 0.7668180486657593\n",
      "----------\n",
      "STEP: 31\n",
      "training loss: 0.7558917103633989\n",
      "test loss: 0.7666311695583624\n",
      "----------\n",
      "STEP: 32\n",
      "training loss: 0.7556168410934844\n",
      "test loss: 0.7664660719027712\n",
      "----------\n",
      "STEP: 33\n",
      "training loss: 0.7553667196452688\n",
      "test loss: 0.766320363083472\n",
      "----------\n",
      "STEP: 34\n",
      "training loss: 0.7551389674911518\n",
      "test loss: 0.7661919234894731\n",
      "----------\n",
      "STEP: 35\n",
      "training loss: 0.7549314580416336\n",
      "test loss: 0.7660788722373211\n",
      "----------\n",
      "STEP: 36\n",
      "training loss: 0.7547422861886073\n",
      "test loss: 0.7659795377627713\n",
      "----------\n",
      "STEP: 37\n",
      "training loss: 0.7545697421305962\n",
      "test loss: 0.7658924325009688\n",
      "----------\n",
      "STEP: 38\n",
      "training loss: 0.7544122887879333\n",
      "test loss: 0.7658162310131373\n",
      "----------\n",
      "STEP: 39\n",
      "training loss: 0.754268542240315\n",
      "test loss: 0.7657497510293841\n",
      "----------\n",
      "STEP: 40\n",
      "training loss: 0.7541372547195331\n",
      "test loss: 0.7656919369678898\n",
      "----------\n",
      "STEP: 41\n",
      "training loss: 0.7540172997712667\n",
      "test loss: 0.7656418455645084\n",
      "----------\n",
      "STEP: 42\n",
      "training loss: 0.753907659265724\n",
      "test loss: 0.7655986333072188\n",
      "----------\n",
      "STEP: 43\n",
      "training loss: 0.7538074119904731\n",
      "test loss: 0.7655615454193486\n",
      "----------\n",
      "STEP: 44\n",
      "training loss: 0.7537157236026146\n",
      "test loss: 0.7655299061762444\n",
      "----------\n",
      "STEP: 45\n",
      "training loss: 0.7536318377532618\n",
      "test loss: 0.7655031103737323\n",
      "----------\n",
      "STEP: 46\n",
      "training loss: 0.7535550682268342\n",
      "test loss: 0.7654806157945401\n",
      "----------\n",
      "STEP: 47\n",
      "training loss: 0.7534847919619194\n",
      "test loss: 0.7654619365420313\n",
      "----------\n",
      "STEP: 48\n",
      "training loss: 0.7534204428406256\n",
      "test loss: 0.7654466371298816\n",
      "----------\n",
      "STEP: 49\n",
      "training loss: 0.7533615061499908\n",
      "test loss: 0.7654343272324687\n",
      "----------\n",
      "STEP: 50\n",
      "training loss: 0.7533075136330231\n",
      "test loss: 0.7654246570142392\n",
      "\n",
      "... trained 50 iterations.\n",
      "CPU times: user 1.63 s, sys: 173 ms, total: 1.81 s\n",
      "Wall time: 16.8 s\n"
     ]
    }
   ],
   "source": [
    "%%time\n",
    "\n",
    "# run 50 iterations\n",
    "initial_weights = BASELINE\n",
    "# train_rdd, test_rdd = normalized_rdd.randomSplit([0.8,0.2], seed = 4)\n",
    "train_losses, test_losses, model_parameters = gradient_descent(train_rdd, test_rdd, initial_weights, num_iterations = 50)\n",
    "print(f\"\\n... trained {len(train_losses)} iterations.\")"
   ]
  },
  {
   "cell_type": "code",
   "execution_count": 131,
   "metadata": {},
   "outputs": [
    {
     "data": {
      "image/png": "[encoded data removed]",
      "text/plain": [
       "<Figure size 1152x576 with 1 Axes>"
      ]
     },
     "metadata": {
      "needs_background": "light"
     },
     "output_type": "display_data"
    }
   ],
   "source": [
    "# take a look\n",
    "plot_error_curve(train_losses, test_losses, title = 'Ordinary Least Squares Regression' )"
   ]
  },
  {
   "cell_type": "code",
   "execution_count": 132,
   "metadata": {},
   "outputs": [],
   "source": [
    "# Save the models & their performance for comparison later\n",
    "# store path to notebook\n",
    "PWD = !pwd\n",
    "PWD = PWD[0]\n",
    "np.savetxt(PWD + '/data/OLSmodels.csv', np.array(model_parameters), delimiter=',')\n",
    "np.savetxt(PWD + '/data/OLSloss.csv', np.array([train_losses, test_losses]), delimiter=',')"
   ]
  },
  {
   "attachments": {
    "image.png": {
     "image/png": "[encoded data removed]"
    }
   },
   "cell_type": "markdown",
   "metadata": {},
   "source": [
    "## Applying Cross Validation\n",
    "\n",
    "Computing the loss after each iteration is not strictly a part of Gradient Descent, its just convenient for visualizing our progress. **This \"third step\" however comes with a tradeoff: it requires an extra pass through the data.** Normally this would cause us to cringe except for the fact that both the loss computation and the gradient computation are very easy to parallelize - lots of the work can be done in place with no shuffle needed for the aggregation. \n",
    "\n",
    "Cross validation, which will solve the problem of the unreliable test-loss that we saw previously, presents a bit more of a **scalability challenge**. To avoid over-dependence on a particulary good or bad test/train split we divide the data into `k` roughly equal size parts and train `k` models. The `k-th` model is trained on all the data _except_ the `k-th` split which is used as a test set for that model. Finally we compute the loss by averaging together the test/train loss for each model.\n",
    "\n",
    "The conventional k-fold cross-validation process is something like this,\n",
    "\n",
    "    Shuffle and then split the dataset into k splits\n",
    "    For iteration i in range 1 to k\n",
    "        Hold out the ith split as test set\n",
    "        Take the remaining splits as training sets\n",
    "        Fit the model to the training set, evaluate score on the test set\n",
    "        Retain the score and **discard the model**.\n",
    "    Summarize the final scores.\n",
    "\n",
    "![image.png](attachment:image.png)\n",
    "\n",
    "\n",
    "A **naive approach** to training an OLS Regression model with cross validation might be to simply perform Gradient Descent on each of the 5 data-splits in sequence. Naive appraoch will lead to **k-times increase** in the execution time because we'll be performing the training of folds sequentially.\n",
    "\n",
    "#### Key observation\n",
    "\n",
    "> If we observe carefully, each record in k-fold cross-validation,\n",
    "  - Is used to train k different models\n",
    "  - Acts as a part of the train set 1 time and test set k-1 times. \n",
    "  \n",
    "To perform all this efficiently in Spark\n",
    "\n",
    "- We will **train k-models parallely** and update them simultaneously. In that way, we'll be making **just one pass over the data records**. \n",
    "- We will try to compute loss for all the models at the same time.\n"
   ]
  },
  {
   "cell_type": "markdown",
   "metadata": {},
   "source": [
    "### The approach\n",
    "\n",
    "The `CV_loss` method takes in a list of data-splits and model weights and then iterates over the data splits.  It then computes residuals (Squared errors) for every record in the split using the `k_residuals` method. In the `k_residuals` method we compute the residuals for the data point against all the k models and label the ith residual as \"test\" (the others are labeled \"train\"). We'll emit a key to track this. So one iteration will emit key-value pairs of the form `[(\"1-test\", 0.0123) (\"2-train\", 0.0345), …. (\"k-train\", kth_residual)]`. These key-value pairs are collected in the `partial_loss_rdd` by using a `union` operation to merge two RDDs. After that, we apply operations onto the `partial_loss_rdd` to compute the MSEs for train and test scenarios of every of the k models. Finally, we calculate the overall train and test loss by taking a mean across all the k models.\n",
    "\n",
    "    Note: This is perhaps the hardest logical part to grasp that deals with intricacies of how to get things done with MapReduce paradigm. Half the battle of implementing any algorithm on Spark is about representing it in the form of map and reduce functions. It's all about taking the data, representing it in some form of key-value pairs by mapping, and then reducing those pairs to get the desired result.\n"
   ]
  },
  {
   "cell_type": "markdown",
   "metadata": {},
   "source": [
    "#### Defining the k-fold loss function"
   ]
  },
  {
   "cell_type": "code",
   "execution_count": null,
   "metadata": {},
   "outputs": [],
   "source": [
    "# A way to compute train and test loss paralelly for all the k-models.\n",
    "def k_residuals(record, k_models, current_split_num):\n",
    "    \"\"\"\n",
    "    Compute the Squared errors for a data point given k different models. We emit\n",
    "    a key (a \"weird\" one infact) to be able track the residuals for a model number and train/test type.\n",
    "    \"\"\"\n",
    "    # As always, Augment the data point with a bias term at index 0\n",
    "    X = np.append([1.0], record[0])\n",
    "    y = record[1]\n",
    "    \n",
    "    for model_num, weights in enumerate(k_models):\n",
    "        if model_num == current_split_num:\n",
    "            # For the kth model, the record belonging to kth data split should be testing record. \n",
    "            yield(f\"{model_num}-test\", (weights.dot(X) - y) ** 2)\n",
    "        else:\n",
    "            # For the kth model, the rest of the records are training records\n",
    "            yield(f\"{model_num}-train\", (weights.dot(X) - y) ** 2)"
   ]
  },
  {
   "cell_type": "code",
   "execution_count": null,
   "metadata": {},
   "outputs": [],
   "source": [
    "from collections import Counter\n",
    "\n",
    "def CV_loss(data_splits, models):\n",
    "    \"\"\"\n",
    "    Computes the k-fold cross-validated test and train loss.\n",
    "    data-splits is a list of k data pieces.\n",
    "    \"\"\"\n",
    "    # For each record, compute k squared errors i.e. residuals  (one for each model)\n",
    "    # These residuals will be stored in the following rdd\n",
    "    # Why are we doing this? To compute the training losses parallely\n",
    "    partial_loss_rdd = sc.parallelize([])\n",
    "    \n",
    "    # Iterating over k-data pieces\n",
    "    for split_num, rdd in enumerate(data_splits):\n",
    "        # Compute residuals for both training and testing in one-go\n",
    "        residuals = rdd.flatMap(lambda x: k_residuals(x, models, split_num))\n",
    "        # Preserve them, union operation is used to combine rows of two or more rdds\n",
    "        partial_loss_rdd = sc.union([partial_loss_rdd, residuals])\n",
    "    \n",
    "    # Aggreate the loss\n",
    "    # First map puts the loss value in a list\n",
    "    # Then the reduce function appends those lists\n",
    "    # And finally another map to compute the mean\n",
    "    loss = partial_loss_rdd.map(lambda x: (x[0], [x[1]]))\\\n",
    "            .reduceByKey(lambda x, y: x + y)\\\n",
    "            .map(lambda x: (x[0], np.mean(x[1]))).collect() \n",
    "    \n",
    "    # Now is the time to use those \"weird\" keys to get mean value of losses for training and testing\n",
    "    test_loss = np.sqrt(np.mean([x[1] for x in loss if x[0].split('-')[1] == 'test']))\n",
    "    training_loss = np.sqrt(np.mean([x[1] for x in loss if x[0].split('-')[1] == 'train']))\n",
    "    return training_loss, test_loss"
   ]
  },
  {
   "cell_type": "markdown",
   "metadata": {},
   "source": [
    "#### Defining the gradient descent logic"
   ]
  },
  {
   "cell_type": "code",
   "execution_count": null,
   "metadata": {},
   "outputs": [],
   "source": [
    "def partial_gradient(split_num, record, models):\n",
    "    \"\"\"\n",
    "    Emit partial gradient for this record for each model.\n",
    "    \"\"\"\n",
    "    # augment the data point\n",
    "    X = np.append([1.0], record[0])\n",
    "    y = record[1]\n",
    "    \n",
    "    # Emit partial gradients for each model with a counter for averaging later\n",
    "    for model_num, weights in enumerate(models):\n",
    "        if model_num != split_num:\n",
    "            # Emit tuples of the form (k, [(prediction, count)])\n",
    "            # count will later be used to compute mean\n",
    "            yield (model_num, [(weights.dot(X) - y)*X, 1])"
   ]
  },
  {
   "cell_type": "code",
   "execution_count": null,
   "metadata": {},
   "outputs": [],
   "source": [
    "def CV_update(data_splits, models, lr = 0.01):\n",
    "    \"\"\"\n",
    "    Compute gradients for k models given k corresponding dataSplits.\n",
    "    NOTE: the training set for model-k is all records EXCEPT those in the k-th split.\n",
    "    \"\"\"\n",
    "    # Since for each data fold k-1 models will be trained, we gotta compute partial gradient k-1 times for each fold\n",
    "    partials_rdd = sc.parallelize([])\n",
    "    \n",
    "    # NOTE that we're still in-essence doing one pass over entire data\n",
    "    # Going fold-by-fold\n",
    "    for split_num, rdd in enumerate(data_splits):\n",
    "        one_fold_partial_grads =  rdd.flatMap(lambda x: partial_gradient(split_num, x, models))\n",
    "        # Append to previous\n",
    "        partials_rdd = sc.union([partials_rdd, one_fold_partial_grads])\n",
    "\n",
    "    # compute gradients by taking the average partialGrad for each fold\n",
    "    # We've used mapValues because we don't care about keys here.\n",
    "    gradients = partials_rdd.reduceByKey(lambda a, b: (a[0] + b[0], a[1] + b[1]))\\\n",
    "                           .mapValues(lambda x: x[0]/x[1])\\\n",
    "                           .map(lambda x: x[1])\\\n",
    "                           .collect()\n",
    "    \n",
    "    # update all k models & return them in a list\n",
    "    new_models = []\n",
    "    for weights, grad in zip(models, gradients):\n",
    "        new_model = weights - lr * grad\n",
    "        new_models.append(new_model)\n",
    "    return new_models"
   ]
  },
  {
   "cell_type": "markdown",
   "metadata": {},
   "source": [
    "Notice that we've used `mapValues` instead of `map`. If your map method doesn't use the keys, then you can use `mapValues` to get some performance gain. Remember that the keys are not lost anywhere, and we're using them in the next map function `(lambda x: x[1])` in the snippet above. Also, notice how we've used 1 in `partial_gradient` method to be able to compute the total count in `reduceByKey` operation of `CV_update` method (similar to what we did for word count)."
   ]
  },
  {
   "cell_type": "code",
   "execution_count": null,
   "metadata": {},
   "outputs": [],
   "source": [
    "def gradient_descent_with_cv(data_splits, initial_weights, lr=0.01, num_iterations = 5):\n",
    "    \"\"\"\n",
    "    Train k models in parallel and track cross validated test/train loss.\n",
    "    \"\"\"\n",
    "    # broadcast initial models (one for each fold)\n",
    "    broadcasted_models = sc.broadcast([initial_weights] * len(data_splits))\n",
    "    \n",
    "    # initialize lists to track performance\n",
    "    train_loss_0, test_loss_0 = CV_loss(data_splits, broadcasted_models.value)\n",
    "    train_losses, test_losses, model_params = [train_loss_0], [test_loss_0], [initial_weights]\n",
    "    \n",
    "    # perform k gradient updates at a time (one for each fold)\n",
    "    start = time.time()\n",
    "    for step in range(num_iterations):\n",
    "        # Running CV on k-data-splits and k-models\n",
    "        new_models = CV_update(data_splits, broadcasted_models.value, lr)\n",
    "        \n",
    "        # Broadcsat them so that machines can cache it again\n",
    "        broadcasted_models = sc.broadcast(new_models)\n",
    "\n",
    "        # Calculate loss and log the progress\n",
    "        train_loss, test_loss = CV_loss(data_splits, broadcasted_models.value)\n",
    "        train_losses.append(train_loss)\n",
    "        test_losses.append(test_loss)\n",
    "        model_params.append(new_models[0])\n",
    "        \n",
    "        print(\"-------------------\")\n",
    "        print(f\"STEP {step}: \")\n",
    "        print(f\"model 1: {[round(w,4) for w in new_models[0]]}\")\n",
    "        print(f\" train loss: {train_loss}\")\n",
    "        print(f\" test loss: {test_loss}\")\n",
    "            \n",
    "    return train_losses, test_losses, model_params"
   ]
  },
  {
   "cell_type": "markdown",
   "metadata": {},
   "source": [
    "The training logic is similar to the vanilla gradient descent which we performed previously, except for the one thing, broadcasting. What is broadcasting and why do we need it? \n",
    "\n",
    "While invoking the `CV_loss` method, we pass a list of RDDs and a list of model weights. Then we iterate over the RDDs in `CV_loss` method and pass the same list of models to `CV_update`. Since operations on these different RDDs may end up on different executors, we'll have to ship a copy of the list of model-weights to every executor whenever the tasks are scheduled. But by broadcasting the list of model weights, Spark will cache a distributed copy of the list on every worker, so that it doesn't get shipped every time, preventing the communication overhead.\n",
    "\n",
    "\n",
    "\n",
    "    Broadcast variables allow the programmer to keep a read-only variable cached on each machine rather than shipping a copy of it with tasks. Explicitly creating broadcast variables is only useful when tasks across multiple stages need the same data or when caching the data in deserialized form is important.\n",
    "\n"
   ]
  },
  {
   "cell_type": "code",
   "execution_count": null,
   "metadata": {
    "scrolled": false
   },
   "outputs": [],
   "source": [
    "# run 50 iterations\n",
    "data_splits = normalized_rdd.randomSplit([1.0 / 6]*6, seed = 2018) \n",
    "initial_weights = BASELINE\n",
    "start = time.time()\n",
    "train_losses, test_losses, model_parameters = gradient_descent_with_cv(data_splits, initial_weights, num_iterations=50)\n",
    "print(f\"\\n... trained {len(train_losses)} iterations in {time.time() - start} seconds\")"
   ]
  },
  {
   "cell_type": "markdown",
   "metadata": {},
   "source": [
    "As we can observe, for 6-fold cross-validation, the training time increased by a factor of 3.5, although we still made only 1-pass over the data points. A few reasons for the increase in execution time are,\n",
    "\n",
    "    We were computing residuals for 6 different models instead of one.\n",
    "    The tasks are not entirely independent.\n",
    "    I have only four cores in my CPU which limits the parallelization.\n",
    "\n",
    "After all these limitations, we've performed pretty well. If we had gone with the sequential approach of performing 6-fold cross-validation, we'd have taken 6x more time.\n",
    "\n",
    "Now let's see by plotting the error curve if we were able to narrow down the gap between test and training error values."
   ]
  },
  {
   "cell_type": "code",
   "execution_count": null,
   "metadata": {},
   "outputs": [],
   "source": [
    "# plot\n",
    "plot_error_curve(train_losses, test_losses, title = '6-fold Cross Validated Loss' )"
   ]
  },
  {
   "cell_type": "markdown",
   "metadata": {},
   "source": [
    "#### Regularization.\n",
    "\n",
    "Our goal, as always, is to build a linear model that will extend well to unseen data. Chosing the right combination of features to optimize generalizability can be extremely computationally costly given that there are $2^{p}$ potential models that can be built from $p$ features. Traditional methods like forward selection would involve iteratively testing these options to asses which combinations of features achieve a statistically significant prediction.\n",
    "\n",
    "Ridge Regression and Lasso Regression are two popular alternatives to OLS, which enable us to train generalizable models without the trouble of forward selection and/or manual feature selection.  Both methods take advantage of the bias-variance tradeoff by _shrinking_ the model coefficients towards 0 which reduces the variance of our model with little increase in bias. In practice this 'shrinkage' is achieved by adding a penalty (a.k.a. 'regularization') term to the means squared error loss function. Following are the implementations of Gradient Descent with ridge and lasso regularization.\n",
    "\n",
    "__`NOTE:`__ When performing regularization _do not_ include the bias in your regularization term calcultion (Recall, that throughout this assignment we've included the bias at index 0 in the vector of weights that is your model).\n"
   ]
  },
  {
   "cell_type": "markdown",
   "metadata": {},
   "source": [
    "### Congratulations!"
   ]
  },
  {
   "cell_type": "markdown",
   "metadata": {},
   "source": [
    "# The larger picture"
   ]
  },
  {
   "cell_type": "markdown",
   "metadata": {},
   "source": [
    "## Linear regression in 2019 style"
   ]
  },
  {
   "cell_type": "code",
   "execution_count": null,
   "metadata": {},
   "outputs": [],
   "source": [
    "from pyspark.ml.regression import LinearRegression\n",
    "from pyspark.ml.feature import VectorAssembler\n",
    "from pyspark.ml.feature import StandardScaler\n",
    "from pyspark.ml import Pipeline\n",
    "from pyspark.sql.functions import *\n",
    "\n",
    "# Define various stages\n",
    "\n",
    "# Transformers\n",
    "vectorAssembler = VectorAssembler(inputCols=FIELDS[:-1], outputCol=\"unscaled_features\")\n",
    "standardScaler = StandardScaler(inputCol=\"unscaled_features\", outputCol=\"features\")\n",
    "\n",
    "# Estimators\n",
    "lr = LinearRegression(maxIter=50, regParam=0.3, labelCol=TARGET_FIELD)\n",
    "\n",
    "# Create a Pipleline\n",
    "stages = [vectorAssembler, standardScaler, lr]\n",
    "pipeline = Pipeline(stages=stages)\n",
    "\n",
    "# Train test split\n",
    "(training, test) = df.randomSplit([.8, .2])\n",
    "\n",
    "# Pass the data through the pipeline\n",
    "model = pipeline.fit(training)"
   ]
  },
  {
   "cell_type": "code",
   "execution_count": null,
   "metadata": {},
   "outputs": [],
   "source": [
    "lr_model = model.stages[-1]\n",
    "# Print the coefficients and intercept for linear regression\n",
    "print(\"Coefficients: %s\" % str(lr_model.coefficients))\n",
    "print(\"Intercept: %s\" % str(lr_model.intercept))\n",
    "\n",
    "# Summarize the model over the training set and print out some metrics\n",
    "training_summary = lr_model.summary\n",
    "print(\"RMSE: %f\" % training_summary.rootMeanSquaredError)"
   ]
  },
  {
   "cell_type": "code",
   "execution_count": null,
   "metadata": {},
   "outputs": [],
   "source": [
    "prediction = model.transform(test)\n",
    "\n",
    "prediction.select(\"features\", \"quality\", \"prediction\").show(5)"
   ]
  },
  {
   "cell_type": "code",
   "execution_count": null,
   "metadata": {},
   "outputs": [],
   "source": [
    "from pyspark.ml.evaluation import RegressionEvaluator\n",
    "evaluator = RegressionEvaluator(labelCol=TARGET_FIELD, predictionCol=\"prediction\", metricName=\"rmse\")\n",
    "\n",
    "# Root Mean Square Error\n",
    "rmse = evaluator.evaluate(prediction)\n",
    "print(\"RMSE: %.3f\" % rmse)\n",
    "\n",
    "# r2 - coefficient of determination\n",
    "r2 = evaluator.evaluate(prediction, {evaluator.metricName: \"r2\"})\n",
    "print(\"r2: %.3f\" %r2)"
   ]
  },
  {
   "cell_type": "markdown",
   "metadata": {},
   "source": [
    "### Cross validation and hyperparameter tuning"
   ]
  },
  {
   "cell_type": "code",
   "execution_count": null,
   "metadata": {},
   "outputs": [],
   "source": [
    "print(lr.explainParams())"
   ]
  },
  {
   "cell_type": "code",
   "execution_count": null,
   "metadata": {},
   "outputs": [],
   "source": [
    "%%time\n",
    "\n",
    "from pyspark.ml.tuning import CrossValidator, ParamGridBuilder\n",
    "\n",
    "# Grid serach CV\n",
    "paramGrid = ParamGridBuilder() \\\n",
    "    .addGrid(lr.elasticNetParam, [0.1, 0.01, 0.0]) \\\n",
    "    .addGrid(lr.regParam, [0.25, 0.1, 0.01]) \\\n",
    "    .build()\n",
    "\n",
    "# Cross validation with model parallelism\n",
    "crossval = CrossValidator(estimator=pipeline,\n",
    "                          estimatorParamMaps=paramGrid,\n",
    "                          evaluator=evaluator,\n",
    "                          numFolds=6,\n",
    "                          parallelism=4)\n",
    "\n",
    "cv_model = crossval.fit(training)\n",
    "\n",
    "best_model = cv_model.bestModel\n",
    "\n",
    "lr_model = best_model.stages[-1]\n",
    "\n",
    "print(\"Regularization param selected:\", lr_model.extractParamMap())\n",
    "# Print the coefficients and intercept for linear regression\n",
    "print(\"Coefficients: %s\" % str(lr_model.coefficients))\n",
    "print(\"Intercept: %s\" % str(lr_model.intercept))\n",
    "\n",
    "# Summarize the model over the training set and print out some metrics\n",
    "training_summary = lr_model.summary\n",
    "print(\"RMSE: %f\" % training_summary.rootMeanSquaredError)"
   ]
  },
  {
   "cell_type": "code",
   "execution_count": null,
   "metadata": {},
   "outputs": [],
   "source": [
    "prediction = cv_model.transform(test)\n",
    "\n",
    "rmse = cv_model.getEvaluator().evaluate(prediction)\n",
    "print(\"RMSE: %.3f\" % rmse)"
   ]
  },
  {
   "cell_type": "markdown",
   "metadata": {},
   "source": [
    "### Persisting and applying models"
   ]
  },
  {
   "cell_type": "code",
   "execution_count": null,
   "metadata": {},
   "outputs": [],
   "source": [
    "cv_model.bestModel.write().overwrite().save(\"data/cv_model\")"
   ]
  },
  {
   "cell_type": "code",
   "execution_count": null,
   "metadata": {},
   "outputs": [],
   "source": [
    "# Info stored in an open source file format for Hadoop ecosystem called \"\"\n",
    "!ls data/cv_model/metadata"
   ]
  },
  {
   "cell_type": "code",
   "execution_count": null,
   "metadata": {},
   "outputs": [],
   "source": [
    "from pyspark.ml import PipelineModel\n",
    "loaded_pipeline = PipelineModel.load(\"data/cv_model\")"
   ]
  },
  {
   "cell_type": "code",
   "execution_count": null,
   "metadata": {},
   "outputs": [],
   "source": [
    "loaded_pipeline.stages[-1].coefficients"
   ]
  }
 ],
 "metadata": {
  "kernelspec": {
   "display_name": "Python 3",
   "language": "python",
   "name": "python3"
  },
  "language_info": {
   "codemirror_mode": {
    "name": "ipython",
    "version": 3
   },
   "file_extension": ".py",
   "mimetype": "text/x-python",
   "name": "python",
   "nbconvert_exporter": "python",
   "pygments_lexer": "ipython3",
   "version": "3.6.9"
  },
  "toc": {
   "colors": {
    "hover_highlight": "#DAA520",
    "running_highlight": "#FF0000",
    "selected_highlight": "#FFD700"
   },
   "moveMenuLeft": true,
   "nav_menu": {
    "height": "441px",
    "width": "252px"
   },
   "navigate_menu": true,
   "number_sections": true,
   "sideBar": true,
   "threshold": 4,
   "toc_cell": true,
   "toc_position": {
    "height": "827px",
    "left": "0px",
    "right": "1125px",
    "top": "107px",
    "width": "428px"
   },
   "toc_section_display": "block",
   "toc_window_display": true
  }
 },
 "nbformat": 4,
 "nbformat_minor": 2
}
